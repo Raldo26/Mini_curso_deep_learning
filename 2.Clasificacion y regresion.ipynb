{
  "cells": [
    {
      "cell_type": "markdown",
      "source": [
        "**Librerías**"
      ],
      "metadata": {
        "id": "PV8lOLQFjd_z"
      }
    },
    {
      "cell_type": "code",
      "execution_count": 1,
      "metadata": {
        "id": "JB29IijtO59V"
      },
      "outputs": [],
      "source": [
        "import numpy as np\n",
        "import pandas as pd\n",
        "import tensorflow as tf\n",
        "from tensorflow.keras import layers\n",
        "from matplotlib import pyplot as plt\n",
        "import seaborn as sns\n",
        "\n",
        "from tensorflow.keras.layers import  Dense\n",
        "from tensorflow.keras.models import Sequential"
      ]
    },
    {
      "cell_type": "markdown",
      "source": [
        "#**Ejercicio clasificación**"
      ],
      "metadata": {
        "id": "Lhtt7N5gjQ5y"
      }
    },
    {
      "cell_type": "markdown",
      "metadata": {
        "id": "MxiFisrZvhpD"
      },
      "source": [
        "##**Funciones**"
      ]
    },
    {
      "cell_type": "code",
      "execution_count": null,
      "metadata": {
        "id": "8qkFLVGFuSBV"
      },
      "outputs": [],
      "source": [
        "def limpieza(df):\n",
        "  df = df.drop(['Name', 'Ticket', 'Cabin', 'PassengerId'], axis=1)\n",
        "\n",
        "  df['Sex'] = df['Sex'].map({\n",
        "    'male':1,\n",
        "    'female':2\n",
        "  })\n",
        "\n",
        "  df['Embarked'] = df['Embarked'].map({\n",
        "    'Q':1,\n",
        "    'S':2,\n",
        "    'C':3\n",
        "  })\n",
        "\n",
        "  mean_age= df['Age'].mean()\n",
        "  df['Age'].fillna(mean_age,inplace=True)\n",
        "\n",
        "  df_cleaned = df.dropna(subset=['Embarked'])\n",
        "\n",
        "  return df_cleaned\n",
        "\n",
        "\n"
      ]
    },
    {
      "cell_type": "markdown",
      "metadata": {
        "id": "tMwyu5g0vojU"
      },
      "source": [
        "##**Dataset**"
      ]
    },
    {
      "cell_type": "code",
      "execution_count": 2,
      "metadata": {
        "id": "qVqX6O6PM9VL"
      },
      "outputs": [],
      "source": [
        "df = pd.read_csv('/content/train (2).csv')"
      ]
    },
    {
      "cell_type": "code",
      "execution_count": 3,
      "metadata": {
        "colab": {
          "base_uri": "https://localhost:8080/",
          "height": 206
        },
        "id": "9K8buz9kPHOe",
        "outputId": "05d996ff-ae70-408e-fda2-f6f57cce2ccc"
      },
      "outputs": [
        {
          "output_type": "execute_result",
          "data": {
            "text/plain": [
              "   PassengerId  Survived  Pclass  \\\n",
              "0            1         0       3   \n",
              "1            2         1       1   \n",
              "2            3         1       3   \n",
              "3            4         1       1   \n",
              "4            5         0       3   \n",
              "\n",
              "                                                Name     Sex   Age  SibSp  \\\n",
              "0                            Braund, Mr. Owen Harris    male  22.0      1   \n",
              "1  Cumings, Mrs. John Bradley (Florence Briggs Th...  female  38.0      1   \n",
              "2                             Heikkinen, Miss. Laina  female  26.0      0   \n",
              "3       Futrelle, Mrs. Jacques Heath (Lily May Peel)  female  35.0      1   \n",
              "4                           Allen, Mr. William Henry    male  35.0      0   \n",
              "\n",
              "   Parch            Ticket     Fare Cabin Embarked  \n",
              "0      0         A/5 21171   7.2500   NaN        S  \n",
              "1      0          PC 17599  71.2833   C85        C  \n",
              "2      0  STON/O2. 3101282   7.9250   NaN        S  \n",
              "3      0            113803  53.1000  C123        S  \n",
              "4      0            373450   8.0500   NaN        S  "
            ],
            "text/html": [
              "\n",
              "  <div id=\"df-e5a5c003-48bd-4349-afe8-f94fefc49023\">\n",
              "    <div class=\"colab-df-container\">\n",
              "      <div>\n",
              "<style scoped>\n",
              "    .dataframe tbody tr th:only-of-type {\n",
              "        vertical-align: middle;\n",
              "    }\n",
              "\n",
              "    .dataframe tbody tr th {\n",
              "        vertical-align: top;\n",
              "    }\n",
              "\n",
              "    .dataframe thead th {\n",
              "        text-align: right;\n",
              "    }\n",
              "</style>\n",
              "<table border=\"1\" class=\"dataframe\">\n",
              "  <thead>\n",
              "    <tr style=\"text-align: right;\">\n",
              "      <th></th>\n",
              "      <th>PassengerId</th>\n",
              "      <th>Survived</th>\n",
              "      <th>Pclass</th>\n",
              "      <th>Name</th>\n",
              "      <th>Sex</th>\n",
              "      <th>Age</th>\n",
              "      <th>SibSp</th>\n",
              "      <th>Parch</th>\n",
              "      <th>Ticket</th>\n",
              "      <th>Fare</th>\n",
              "      <th>Cabin</th>\n",
              "      <th>Embarked</th>\n",
              "    </tr>\n",
              "  </thead>\n",
              "  <tbody>\n",
              "    <tr>\n",
              "      <th>0</th>\n",
              "      <td>1</td>\n",
              "      <td>0</td>\n",
              "      <td>3</td>\n",
              "      <td>Braund, Mr. Owen Harris</td>\n",
              "      <td>male</td>\n",
              "      <td>22.0</td>\n",
              "      <td>1</td>\n",
              "      <td>0</td>\n",
              "      <td>A/5 21171</td>\n",
              "      <td>7.2500</td>\n",
              "      <td>NaN</td>\n",
              "      <td>S</td>\n",
              "    </tr>\n",
              "    <tr>\n",
              "      <th>1</th>\n",
              "      <td>2</td>\n",
              "      <td>1</td>\n",
              "      <td>1</td>\n",
              "      <td>Cumings, Mrs. John Bradley (Florence Briggs Th...</td>\n",
              "      <td>female</td>\n",
              "      <td>38.0</td>\n",
              "      <td>1</td>\n",
              "      <td>0</td>\n",
              "      <td>PC 17599</td>\n",
              "      <td>71.2833</td>\n",
              "      <td>C85</td>\n",
              "      <td>C</td>\n",
              "    </tr>\n",
              "    <tr>\n",
              "      <th>2</th>\n",
              "      <td>3</td>\n",
              "      <td>1</td>\n",
              "      <td>3</td>\n",
              "      <td>Heikkinen, Miss. Laina</td>\n",
              "      <td>female</td>\n",
              "      <td>26.0</td>\n",
              "      <td>0</td>\n",
              "      <td>0</td>\n",
              "      <td>STON/O2. 3101282</td>\n",
              "      <td>7.9250</td>\n",
              "      <td>NaN</td>\n",
              "      <td>S</td>\n",
              "    </tr>\n",
              "    <tr>\n",
              "      <th>3</th>\n",
              "      <td>4</td>\n",
              "      <td>1</td>\n",
              "      <td>1</td>\n",
              "      <td>Futrelle, Mrs. Jacques Heath (Lily May Peel)</td>\n",
              "      <td>female</td>\n",
              "      <td>35.0</td>\n",
              "      <td>1</td>\n",
              "      <td>0</td>\n",
              "      <td>113803</td>\n",
              "      <td>53.1000</td>\n",
              "      <td>C123</td>\n",
              "      <td>S</td>\n",
              "    </tr>\n",
              "    <tr>\n",
              "      <th>4</th>\n",
              "      <td>5</td>\n",
              "      <td>0</td>\n",
              "      <td>3</td>\n",
              "      <td>Allen, Mr. William Henry</td>\n",
              "      <td>male</td>\n",
              "      <td>35.0</td>\n",
              "      <td>0</td>\n",
              "      <td>0</td>\n",
              "      <td>373450</td>\n",
              "      <td>8.0500</td>\n",
              "      <td>NaN</td>\n",
              "      <td>S</td>\n",
              "    </tr>\n",
              "  </tbody>\n",
              "</table>\n",
              "</div>\n",
              "      <button class=\"colab-df-convert\" onclick=\"convertToInteractive('df-e5a5c003-48bd-4349-afe8-f94fefc49023')\"\n",
              "              title=\"Convert this dataframe to an interactive table.\"\n",
              "              style=\"display:none;\">\n",
              "        \n",
              "  <svg xmlns=\"http://www.w3.org/2000/svg\" height=\"24px\"viewBox=\"0 0 24 24\"\n",
              "       width=\"24px\">\n",
              "    <path d=\"M0 0h24v24H0V0z\" fill=\"none\"/>\n",
              "    <path d=\"M18.56 5.44l.94 2.06.94-2.06 2.06-.94-2.06-.94-.94-2.06-.94 2.06-2.06.94zm-11 1L8.5 8.5l.94-2.06 2.06-.94-2.06-.94L8.5 2.5l-.94 2.06-2.06.94zm10 10l.94 2.06.94-2.06 2.06-.94-2.06-.94-.94-2.06-.94 2.06-2.06.94z\"/><path d=\"M17.41 7.96l-1.37-1.37c-.4-.4-.92-.59-1.43-.59-.52 0-1.04.2-1.43.59L10.3 9.45l-7.72 7.72c-.78.78-.78 2.05 0 2.83L4 21.41c.39.39.9.59 1.41.59.51 0 1.02-.2 1.41-.59l7.78-7.78 2.81-2.81c.8-.78.8-2.07 0-2.86zM5.41 20L4 18.59l7.72-7.72 1.47 1.35L5.41 20z\"/>\n",
              "  </svg>\n",
              "      </button>\n",
              "      \n",
              "  <style>\n",
              "    .colab-df-container {\n",
              "      display:flex;\n",
              "      flex-wrap:wrap;\n",
              "      gap: 12px;\n",
              "    }\n",
              "\n",
              "    .colab-df-convert {\n",
              "      background-color: #E8F0FE;\n",
              "      border: none;\n",
              "      border-radius: 50%;\n",
              "      cursor: pointer;\n",
              "      display: none;\n",
              "      fill: #1967D2;\n",
              "      height: 32px;\n",
              "      padding: 0 0 0 0;\n",
              "      width: 32px;\n",
              "    }\n",
              "\n",
              "    .colab-df-convert:hover {\n",
              "      background-color: #E2EBFA;\n",
              "      box-shadow: 0px 1px 2px rgba(60, 64, 67, 0.3), 0px 1px 3px 1px rgba(60, 64, 67, 0.15);\n",
              "      fill: #174EA6;\n",
              "    }\n",
              "\n",
              "    [theme=dark] .colab-df-convert {\n",
              "      background-color: #3B4455;\n",
              "      fill: #D2E3FC;\n",
              "    }\n",
              "\n",
              "    [theme=dark] .colab-df-convert:hover {\n",
              "      background-color: #434B5C;\n",
              "      box-shadow: 0px 1px 3px 1px rgba(0, 0, 0, 0.15);\n",
              "      filter: drop-shadow(0px 1px 2px rgba(0, 0, 0, 0.3));\n",
              "      fill: #FFFFFF;\n",
              "    }\n",
              "  </style>\n",
              "\n",
              "      <script>\n",
              "        const buttonEl =\n",
              "          document.querySelector('#df-e5a5c003-48bd-4349-afe8-f94fefc49023 button.colab-df-convert');\n",
              "        buttonEl.style.display =\n",
              "          google.colab.kernel.accessAllowed ? 'block' : 'none';\n",
              "\n",
              "        async function convertToInteractive(key) {\n",
              "          const element = document.querySelector('#df-e5a5c003-48bd-4349-afe8-f94fefc49023');\n",
              "          const dataTable =\n",
              "            await google.colab.kernel.invokeFunction('convertToInteractive',\n",
              "                                                     [key], {});\n",
              "          if (!dataTable) return;\n",
              "\n",
              "          const docLinkHtml = 'Like what you see? Visit the ' +\n",
              "            '<a target=\"_blank\" href=https://colab.research.google.com/notebooks/data_table.ipynb>data table notebook</a>'\n",
              "            + ' to learn more about interactive tables.';\n",
              "          element.innerHTML = '';\n",
              "          dataTable['output_type'] = 'display_data';\n",
              "          await google.colab.output.renderOutput(dataTable, element);\n",
              "          const docLink = document.createElement('div');\n",
              "          docLink.innerHTML = docLinkHtml;\n",
              "          element.appendChild(docLink);\n",
              "        }\n",
              "      </script>\n",
              "    </div>\n",
              "  </div>\n",
              "  "
            ]
          },
          "metadata": {},
          "execution_count": 3
        }
      ],
      "source": [
        "df.head()"
      ]
    },
    {
      "cell_type": "code",
      "execution_count": null,
      "metadata": {
        "colab": {
          "base_uri": "https://localhost:8080/"
        },
        "id": "oHHhGbuDPdRO",
        "outputId": "b47b6252-2aa3-408f-e716-78b8e13fb0ed"
      },
      "outputs": [
        {
          "output_type": "stream",
          "name": "stdout",
          "text": [
            "<class 'pandas.core.frame.DataFrame'>\n",
            "RangeIndex: 891 entries, 0 to 890\n",
            "Data columns (total 12 columns):\n",
            " #   Column       Non-Null Count  Dtype  \n",
            "---  ------       --------------  -----  \n",
            " 0   PassengerId  891 non-null    int64  \n",
            " 1   Survived     891 non-null    int64  \n",
            " 2   Pclass       891 non-null    int64  \n",
            " 3   Name         891 non-null    object \n",
            " 4   Sex          891 non-null    object \n",
            " 5   Age          714 non-null    float64\n",
            " 6   SibSp        891 non-null    int64  \n",
            " 7   Parch        891 non-null    int64  \n",
            " 8   Ticket       891 non-null    object \n",
            " 9   Fare         891 non-null    float64\n",
            " 10  Cabin        204 non-null    object \n",
            " 11  Embarked     889 non-null    object \n",
            "dtypes: float64(2), int64(5), object(5)\n",
            "memory usage: 83.7+ KB\n"
          ]
        },
        {
          "output_type": "stream",
          "name": "stderr",
          "text": [
            "<ipython-input-5-a494a59f9abe>:1: FutureWarning: null_counts is deprecated. Use show_counts instead\n",
            "  df.info(verbose=True,null_counts=True)\n"
          ]
        }
      ],
      "source": [
        "df.info(verbose=True,null_counts=True)"
      ]
    },
    {
      "cell_type": "code",
      "execution_count": null,
      "metadata": {
        "colab": {
          "base_uri": "https://localhost:8080/"
        },
        "id": "YG9W2Leowe4F",
        "outputId": "d0ced046-f808-46e8-8dbe-48d0149af3db"
      },
      "outputs": [
        {
          "output_type": "execute_result",
          "data": {
            "text/plain": [
              "PassengerId      0\n",
              "Survived         0\n",
              "Pclass           0\n",
              "Name             0\n",
              "Sex              0\n",
              "Age            177\n",
              "SibSp            0\n",
              "Parch            0\n",
              "Ticket           0\n",
              "Fare             0\n",
              "Cabin          687\n",
              "Embarked         2\n",
              "dtype: int64"
            ]
          },
          "metadata": {},
          "execution_count": 6
        }
      ],
      "source": [
        "df.isnull().sum()"
      ]
    },
    {
      "cell_type": "code",
      "execution_count": null,
      "metadata": {
        "colab": {
          "base_uri": "https://localhost:8080/"
        },
        "id": "1Ns0Uw6IvG_i",
        "outputId": "4716f4ca-ac99-411e-b233-2068c2ec1474"
      },
      "outputs": [
        {
          "output_type": "stream",
          "name": "stdout",
          "text": [
            "<class 'pandas.core.frame.DataFrame'>\n",
            "Int64Index: 889 entries, 0 to 890\n",
            "Data columns (total 8 columns):\n",
            " #   Column    Non-Null Count  Dtype  \n",
            "---  ------    --------------  -----  \n",
            " 0   Survived  889 non-null    int64  \n",
            " 1   Pclass    889 non-null    int64  \n",
            " 2   Sex       889 non-null    int64  \n",
            " 3   Age       889 non-null    float64\n",
            " 4   SibSp     889 non-null    int64  \n",
            " 5   Parch     889 non-null    int64  \n",
            " 6   Fare      889 non-null    float64\n",
            " 7   Embarked  889 non-null    float64\n",
            "dtypes: float64(3), int64(5)\n",
            "memory usage: 62.5 KB\n",
            "None\n"
          ]
        },
        {
          "output_type": "stream",
          "name": "stderr",
          "text": [
            "<ipython-input-7-a4b8589c20f4>:2: FutureWarning: null_counts is deprecated. Use show_counts instead\n",
            "  print(df_cleaned.info(verbose=True,null_counts=True))\n"
          ]
        }
      ],
      "source": [
        "df_cleaned= limpieza(df)\n",
        "print(df_cleaned.info(verbose=True,null_counts=True))"
      ]
    },
    {
      "cell_type": "code",
      "execution_count": null,
      "metadata": {
        "colab": {
          "base_uri": "https://localhost:8080/"
        },
        "id": "59Ry6xXPwwCm",
        "outputId": "e55278c7-84e2-4b51-a845-5974d85e648b"
      },
      "outputs": [
        {
          "output_type": "stream",
          "name": "stdout",
          "text": [
            "(889, 7)\n",
            "(889,)\n"
          ]
        }
      ],
      "source": [
        "#Separar target y datos de entrenamiento\n",
        "X = df_cleaned.drop(columns='Survived')\n",
        "print(X.shape)\n",
        "y = df_cleaned['Survived']\n",
        "print(y.shape)"
      ]
    },
    {
      "cell_type": "code",
      "source": [
        "#Normalización datos\n",
        "from sklearn.preprocessing import MinMaxScaler\n",
        "scaler = MinMaxScaler()\n",
        "X_norm = scaler.fit_transform(X)"
      ],
      "metadata": {
        "id": "GpdXkMqsUKDB"
      },
      "execution_count": null,
      "outputs": []
    },
    {
      "cell_type": "code",
      "execution_count": null,
      "metadata": {
        "colab": {
          "base_uri": "https://localhost:8080/"
        },
        "id": "H9c61oN7yMPr",
        "outputId": "ca008f28-0f02-499d-8530-1d87eaa3e669"
      },
      "outputs": [
        {
          "output_type": "stream",
          "name": "stdout",
          "text": [
            "<class 'numpy.ndarray'>\n",
            "(711, 7)\n"
          ]
        }
      ],
      "source": [
        "from sklearn.model_selection import train_test_split\n",
        "X_train,X_test,y_train,y_test = train_test_split(X_norm,y,test_size=0.2)\n",
        "print(type(X_train))\n",
        "print(X_train.shape)"
      ]
    },
    {
      "cell_type": "markdown",
      "metadata": {
        "id": "-_1VnLptvFOK"
      },
      "source": [
        "##**Modelo**"
      ]
    },
    {
      "cell_type": "code",
      "execution_count": null,
      "metadata": {
        "id": "eCZl7wyVXdB0"
      },
      "outputs": [],
      "source": [
        "def Secuencial_model():\n",
        "  model = tf.keras.models.Sequential()\n",
        "  model.add(tf.keras.layers.Flatten(input_shape=(7, )))\n",
        "  model.add(tf.keras.layers.Dense(32, activation='relu'))\n",
        "  model.add(tf.keras.layers.Dense(32, activation='relu'))\n",
        "  model.add(tf.keras.layers.Dense(1, activation='sigmoid'))\n",
        "\n",
        "  model.summary()\n",
        "\n",
        "  opt = tf.keras.optimizers.Adam(learning_rate = 0.001)\n",
        "  model.compile(loss = 'binary_crossentropy', optimizer = opt, metrics = ['accuracy'])\n",
        "\n",
        "  return model"
      ]
    },
    {
      "cell_type": "code",
      "execution_count": null,
      "metadata": {
        "colab": {
          "base_uri": "https://localhost:8080/"
        },
        "id": "EX51iHwMX9j0",
        "outputId": "1816b07c-8bce-497e-bf6c-35c9be1793ff"
      },
      "outputs": [
        {
          "output_type": "stream",
          "name": "stdout",
          "text": [
            "Model: \"sequential_3\"\n",
            "_________________________________________________________________\n",
            " Layer (type)                Output Shape              Param #   \n",
            "=================================================================\n",
            " flatten_3 (Flatten)         (None, 7)                 0         \n",
            "                                                                 \n",
            " dense_9 (Dense)             (None, 32)                256       \n",
            "                                                                 \n",
            " dense_10 (Dense)            (None, 32)                1056      \n",
            "                                                                 \n",
            " dense_11 (Dense)            (None, 1)                 33        \n",
            "                                                                 \n",
            "=================================================================\n",
            "Total params: 1,345\n",
            "Trainable params: 1,345\n",
            "Non-trainable params: 0\n",
            "_________________________________________________________________\n"
          ]
        }
      ],
      "source": [
        "model = Secuencial_model()"
      ]
    },
    {
      "cell_type": "code",
      "execution_count": null,
      "metadata": {
        "colab": {
          "base_uri": "https://localhost:8080/"
        },
        "id": "aKX_WIdYYGvs",
        "outputId": "89cf97d5-45d7-4871-97a1-84aad2a66b9b"
      },
      "outputs": [
        {
          "output_type": "stream",
          "name": "stdout",
          "text": [
            "Epoch 1/50\n",
            "48/48 [==============================] - 1s 3ms/step - loss: 0.6331 - accuracy: 0.7468\n",
            "Epoch 2/50\n",
            "48/48 [==============================] - 0s 3ms/step - loss: 0.5279 - accuracy: 0.8059\n",
            "Epoch 3/50\n",
            "48/48 [==============================] - 0s 3ms/step - loss: 0.4602 - accuracy: 0.8017\n",
            "Epoch 4/50\n",
            "48/48 [==============================] - 0s 3ms/step - loss: 0.4379 - accuracy: 0.8031\n",
            "Epoch 5/50\n",
            "48/48 [==============================] - 0s 4ms/step - loss: 0.4279 - accuracy: 0.8073\n",
            "Epoch 6/50\n",
            "48/48 [==============================] - 0s 3ms/step - loss: 0.4215 - accuracy: 0.8129\n",
            "Epoch 7/50\n",
            "48/48 [==============================] - 0s 3ms/step - loss: 0.4159 - accuracy: 0.8242\n",
            "Epoch 8/50\n",
            "48/48 [==============================] - 0s 3ms/step - loss: 0.4132 - accuracy: 0.8228\n",
            "Epoch 9/50\n",
            "48/48 [==============================] - 0s 3ms/step - loss: 0.4115 - accuracy: 0.8242\n",
            "Epoch 10/50\n",
            "48/48 [==============================] - 0s 3ms/step - loss: 0.4095 - accuracy: 0.8186\n",
            "Epoch 11/50\n",
            "48/48 [==============================] - 0s 3ms/step - loss: 0.4051 - accuracy: 0.8270\n",
            "Epoch 12/50\n",
            "48/48 [==============================] - 0s 3ms/step - loss: 0.4015 - accuracy: 0.8312\n",
            "Epoch 13/50\n",
            "48/48 [==============================] - 0s 3ms/step - loss: 0.3989 - accuracy: 0.8284\n",
            "Epoch 14/50\n",
            "48/48 [==============================] - 0s 3ms/step - loss: 0.3985 - accuracy: 0.8256\n",
            "Epoch 15/50\n",
            "48/48 [==============================] - 0s 3ms/step - loss: 0.3963 - accuracy: 0.8270\n",
            "Epoch 16/50\n",
            "48/48 [==============================] - 0s 3ms/step - loss: 0.3948 - accuracy: 0.8284\n",
            "Epoch 17/50\n",
            "48/48 [==============================] - 0s 3ms/step - loss: 0.3944 - accuracy: 0.8284\n",
            "Epoch 18/50\n",
            "48/48 [==============================] - 0s 3ms/step - loss: 0.3912 - accuracy: 0.8256\n",
            "Epoch 19/50\n",
            "48/48 [==============================] - 0s 3ms/step - loss: 0.3901 - accuracy: 0.8326\n",
            "Epoch 20/50\n",
            "48/48 [==============================] - 0s 3ms/step - loss: 0.3905 - accuracy: 0.8326\n",
            "Epoch 21/50\n",
            "48/48 [==============================] - 0s 4ms/step - loss: 0.3885 - accuracy: 0.8354\n",
            "Epoch 22/50\n",
            "48/48 [==============================] - 0s 3ms/step - loss: 0.3865 - accuracy: 0.8326\n",
            "Epoch 23/50\n",
            "48/48 [==============================] - 0s 3ms/step - loss: 0.3848 - accuracy: 0.8326\n",
            "Epoch 24/50\n",
            "48/48 [==============================] - 0s 3ms/step - loss: 0.3875 - accuracy: 0.8354\n",
            "Epoch 25/50\n",
            "48/48 [==============================] - 0s 3ms/step - loss: 0.3844 - accuracy: 0.8340\n",
            "Epoch 26/50\n",
            "48/48 [==============================] - 0s 3ms/step - loss: 0.3826 - accuracy: 0.8354\n",
            "Epoch 27/50\n",
            "48/48 [==============================] - 0s 3ms/step - loss: 0.3821 - accuracy: 0.8354\n",
            "Epoch 28/50\n",
            "48/48 [==============================] - 0s 3ms/step - loss: 0.3828 - accuracy: 0.8354\n",
            "Epoch 29/50\n",
            "48/48 [==============================] - 0s 3ms/step - loss: 0.3848 - accuracy: 0.8397\n",
            "Epoch 30/50\n",
            "48/48 [==============================] - 0s 3ms/step - loss: 0.3805 - accuracy: 0.8439\n",
            "Epoch 31/50\n",
            "48/48 [==============================] - 0s 3ms/step - loss: 0.3810 - accuracy: 0.8340\n",
            "Epoch 32/50\n",
            "48/48 [==============================] - 0s 3ms/step - loss: 0.3803 - accuracy: 0.8453\n",
            "Epoch 33/50\n",
            "48/48 [==============================] - 0s 3ms/step - loss: 0.3777 - accuracy: 0.8397\n",
            "Epoch 34/50\n",
            "48/48 [==============================] - 0s 3ms/step - loss: 0.3785 - accuracy: 0.8467\n",
            "Epoch 35/50\n",
            "48/48 [==============================] - 0s 3ms/step - loss: 0.3746 - accuracy: 0.8495\n",
            "Epoch 36/50\n",
            "48/48 [==============================] - 0s 3ms/step - loss: 0.3750 - accuracy: 0.8425\n",
            "Epoch 37/50\n",
            "48/48 [==============================] - 0s 3ms/step - loss: 0.3741 - accuracy: 0.8411\n",
            "Epoch 38/50\n",
            "48/48 [==============================] - 0s 3ms/step - loss: 0.3742 - accuracy: 0.8509\n",
            "Epoch 39/50\n",
            "48/48 [==============================] - 0s 3ms/step - loss: 0.3745 - accuracy: 0.8523\n",
            "Epoch 40/50\n",
            "48/48 [==============================] - 0s 3ms/step - loss: 0.3730 - accuracy: 0.8425\n",
            "Epoch 41/50\n",
            "48/48 [==============================] - 0s 3ms/step - loss: 0.3741 - accuracy: 0.8453\n",
            "Epoch 42/50\n",
            "48/48 [==============================] - 0s 3ms/step - loss: 0.3716 - accuracy: 0.8425\n",
            "Epoch 43/50\n",
            "48/48 [==============================] - 0s 3ms/step - loss: 0.3704 - accuracy: 0.8495\n",
            "Epoch 44/50\n",
            "48/48 [==============================] - 0s 3ms/step - loss: 0.3766 - accuracy: 0.8481\n",
            "Epoch 45/50\n",
            "48/48 [==============================] - 0s 3ms/step - loss: 0.3697 - accuracy: 0.8481\n",
            "Epoch 46/50\n",
            "48/48 [==============================] - 0s 3ms/step - loss: 0.3701 - accuracy: 0.8467\n",
            "Epoch 47/50\n",
            "48/48 [==============================] - 0s 3ms/step - loss: 0.3705 - accuracy: 0.8411\n",
            "Epoch 48/50\n",
            "48/48 [==============================] - 0s 3ms/step - loss: 0.3704 - accuracy: 0.8411\n",
            "Epoch 49/50\n",
            "48/48 [==============================] - 0s 3ms/step - loss: 0.3697 - accuracy: 0.8481\n",
            "Epoch 50/50\n",
            "48/48 [==============================] - 0s 3ms/step - loss: 0.3707 - accuracy: 0.8453\n"
          ]
        }
      ],
      "source": [
        "#Entrenamiento del modelo\n",
        "history = model.fit(X_train, y_train, epochs = 50, batch_size=15)"
      ]
    },
    {
      "cell_type": "code",
      "execution_count": null,
      "metadata": {
        "colab": {
          "base_uri": "https://localhost:8080/"
        },
        "id": "iTTkTs9XkIuN",
        "outputId": "3b0f21cb-676e-4511-bf0b-870b26495f6c"
      },
      "outputs": [
        {
          "output_type": "stream",
          "name": "stdout",
          "text": [
            "6/6 [==============================] - 0s 4ms/step - loss: 0.5496 - accuracy: 0.7865\n"
          ]
        },
        {
          "output_type": "execute_result",
          "data": {
            "text/plain": [
              "[0.5496242642402649, 0.7865168452262878]"
            ]
          },
          "metadata": {},
          "execution_count": 26
        }
      ],
      "source": [
        "#Evaluación del modelo\n",
        "model.evaluate(X_test,y_test)"
      ]
    },
    {
      "cell_type": "markdown",
      "source": [
        "##**Matriz de confusión**"
      ],
      "metadata": {
        "id": "ipSaapAZikSz"
      }
    },
    {
      "cell_type": "code",
      "execution_count": null,
      "metadata": {
        "colab": {
          "base_uri": "https://localhost:8080/"
        },
        "id": "oKukYqyAqnTJ",
        "outputId": "7cff03a2-d671-4197-b630-f2845a4d3d94"
      },
      "outputs": [
        {
          "output_type": "stream",
          "name": "stdout",
          "text": [
            "6/6 [==============================] - 0s 2ms/step\n",
            "              precision    recall  f1-score   support\n",
            "\n",
            "           0       0.74      0.95      0.83        98\n",
            "           1       0.90      0.59      0.71        80\n",
            "\n",
            "    accuracy                           0.79       178\n",
            "   macro avg       0.82      0.77      0.77       178\n",
            "weighted avg       0.81      0.79      0.78       178\n",
            "\n",
            "[[93  5]\n",
            " [33 47]]\n"
          ]
        },
        {
          "output_type": "display_data",
          "data": {
            "text/plain": [
              "<Figure size 432x288 with 2 Axes>"
            ],
            "image/png": "[encoded data removed]"
          },
          "metadata": {
            "needs_background": "light"
          }
        }
      ],
      "source": [
        "from sklearn.metrics import classification_report, confusion_matrix\n",
        "import seaborn as sns\n",
        "#import matplotlib.pyplot as plt\n",
        "import pandas as pd\n",
        "\n",
        "y_test_class = y_test\n",
        "y_pred_class = model.predict(X_test) \n",
        "y_pred_class= np.int8(y_pred_class>0.5)\n",
        "\n",
        "# Cálculo de las métricas \n",
        "print(classification_report(y_test_class, y_pred_class)) # Precision , Recall, F1-Score & Support\n",
        "cm = confusion_matrix(y_test_class, y_pred_class)\n",
        "print(cm)\n",
        "# Visualización de la matriz de confusion en un mapa de calor\n",
        "df_cm = pd.DataFrame(cm)\n",
        "heatmap = sns.heatmap(df_cm, annot=True, fmt=\"d\")"
      ]
    },
    {
      "cell_type": "markdown",
      "source": [
        "# **Ejercicio regresión**"
      ],
      "metadata": {
        "id": "G0VLdF7JjV0C"
      }
    },
    {
      "cell_type": "markdown",
      "source": [
        "##**Dataset**"
      ],
      "metadata": {
        "id": "EUIROr_us2hx"
      }
    },
    {
      "cell_type": "code",
      "execution_count": null,
      "metadata": {
        "id": "BYLAbMRNs4rW"
      },
      "outputs": [],
      "source": [
        "df2 = pd.read_csv('Concrete_Data (1).csv', sep= ';', names= ['Cement', 'Blast Furnace', 'Fly Ash', 'Water', 'Superplasticizer', 'Coarse Aggregate', 'Fine Aggregate', 'Age', 'Concrete Compressive'])"
      ]
    },
    {
      "cell_type": "code",
      "execution_count": null,
      "metadata": {
        "colab": {
          "base_uri": "https://localhost:8080/",
          "height": 206
        },
        "outputId": "18ce9f67-3b89-471b-f258-11103bbc32e7",
        "id": "2XU41S98s4rY"
      },
      "outputs": [
        {
          "output_type": "execute_result",
          "data": {
            "text/plain": [
              "   Cement  Blast Furnace  Fly Ash  Water  Superplasticizer  Coarse Aggregate  \\\n",
              "0   540.0            0.0      0.0  162.0               2.5            1040.0   \n",
              "1   540.0            0.0      0.0  162.0               2.5            1055.0   \n",
              "2   332.5          142.5      0.0  228.0               0.0             932.0   \n",
              "3   332.5          142.5      0.0  228.0               0.0             932.0   \n",
              "4   198.6          132.4      0.0  192.0               0.0             978.4   \n",
              "\n",
              "   Fine Aggregate  Age  Concrete Compressive  \n",
              "0           676.0   28                 79.99  \n",
              "1           676.0   28                 61.89  \n",
              "2           594.0  270                 40.27  \n",
              "3           594.0  365                 41.05  \n",
              "4           825.5  360                 44.30  "
            ],
            "text/html": [
              "\n",
              "  <div id=\"df-b0be1c45-b70d-4dc0-9561-506fd0fcc011\">\n",
              "    <div class=\"colab-df-container\">\n",
              "      <div>\n",
              "<style scoped>\n",
              "    .dataframe tbody tr th:only-of-type {\n",
              "        vertical-align: middle;\n",
              "    }\n",
              "\n",
              "    .dataframe tbody tr th {\n",
              "        vertical-align: top;\n",
              "    }\n",
              "\n",
              "    .dataframe thead th {\n",
              "        text-align: right;\n",
              "    }\n",
              "</style>\n",
              "<table border=\"1\" class=\"dataframe\">\n",
              "  <thead>\n",
              "    <tr style=\"text-align: right;\">\n",
              "      <th></th>\n",
              "      <th>Cement</th>\n",
              "      <th>Blast Furnace</th>\n",
              "      <th>Fly Ash</th>\n",
              "      <th>Water</th>\n",
              "      <th>Superplasticizer</th>\n",
              "      <th>Coarse Aggregate</th>\n",
              "      <th>Fine Aggregate</th>\n",
              "      <th>Age</th>\n",
              "      <th>Concrete Compressive</th>\n",
              "    </tr>\n",
              "  </thead>\n",
              "  <tbody>\n",
              "    <tr>\n",
              "      <th>0</th>\n",
              "      <td>540.0</td>\n",
              "      <td>0.0</td>\n",
              "      <td>0.0</td>\n",
              "      <td>162.0</td>\n",
              "      <td>2.5</td>\n",
              "      <td>1040.0</td>\n",
              "      <td>676.0</td>\n",
              "      <td>28</td>\n",
              "      <td>79.99</td>\n",
              "    </tr>\n",
              "    <tr>\n",
              "      <th>1</th>\n",
              "      <td>540.0</td>\n",
              "      <td>0.0</td>\n",
              "      <td>0.0</td>\n",
              "      <td>162.0</td>\n",
              "      <td>2.5</td>\n",
              "      <td>1055.0</td>\n",
              "      <td>676.0</td>\n",
              "      <td>28</td>\n",
              "      <td>61.89</td>\n",
              "    </tr>\n",
              "    <tr>\n",
              "      <th>2</th>\n",
              "      <td>332.5</td>\n",
              "      <td>142.5</td>\n",
              "      <td>0.0</td>\n",
              "      <td>228.0</td>\n",
              "      <td>0.0</td>\n",
              "      <td>932.0</td>\n",
              "      <td>594.0</td>\n",
              "      <td>270</td>\n",
              "      <td>40.27</td>\n",
              "    </tr>\n",
              "    <tr>\n",
              "      <th>3</th>\n",
              "      <td>332.5</td>\n",
              "      <td>142.5</td>\n",
              "      <td>0.0</td>\n",
              "      <td>228.0</td>\n",
              "      <td>0.0</td>\n",
              "      <td>932.0</td>\n",
              "      <td>594.0</td>\n",
              "      <td>365</td>\n",
              "      <td>41.05</td>\n",
              "    </tr>\n",
              "    <tr>\n",
              "      <th>4</th>\n",
              "      <td>198.6</td>\n",
              "      <td>132.4</td>\n",
              "      <td>0.0</td>\n",
              "      <td>192.0</td>\n",
              "      <td>0.0</td>\n",
              "      <td>978.4</td>\n",
              "      <td>825.5</td>\n",
              "      <td>360</td>\n",
              "      <td>44.30</td>\n",
              "    </tr>\n",
              "  </tbody>\n",
              "</table>\n",
              "</div>\n",
              "      <button class=\"colab-df-convert\" onclick=\"convertToInteractive('df-b0be1c45-b70d-4dc0-9561-506fd0fcc011')\"\n",
              "              title=\"Convert this dataframe to an interactive table.\"\n",
              "              style=\"display:none;\">\n",
              "        \n",
              "  <svg xmlns=\"http://www.w3.org/2000/svg\" height=\"24px\"viewBox=\"0 0 24 24\"\n",
              "       width=\"24px\">\n",
              "    <path d=\"M0 0h24v24H0V0z\" fill=\"none\"/>\n",
              "    <path d=\"M18.56 5.44l.94 2.06.94-2.06 2.06-.94-2.06-.94-.94-2.06-.94 2.06-2.06.94zm-11 1L8.5 8.5l.94-2.06 2.06-.94-2.06-.94L8.5 2.5l-.94 2.06-2.06.94zm10 10l.94 2.06.94-2.06 2.06-.94-2.06-.94-.94-2.06-.94 2.06-2.06.94z\"/><path d=\"M17.41 7.96l-1.37-1.37c-.4-.4-.92-.59-1.43-.59-.52 0-1.04.2-1.43.59L10.3 9.45l-7.72 7.72c-.78.78-.78 2.05 0 2.83L4 21.41c.39.39.9.59 1.41.59.51 0 1.02-.2 1.41-.59l7.78-7.78 2.81-2.81c.8-.78.8-2.07 0-2.86zM5.41 20L4 18.59l7.72-7.72 1.47 1.35L5.41 20z\"/>\n",
              "  </svg>\n",
              "      </button>\n",
              "      \n",
              "  <style>\n",
              "    .colab-df-container {\n",
              "      display:flex;\n",
              "      flex-wrap:wrap;\n",
              "      gap: 12px;\n",
              "    }\n",
              "\n",
              "    .colab-df-convert {\n",
              "      background-color: #E8F0FE;\n",
              "      border: none;\n",
              "      border-radius: 50%;\n",
              "      cursor: pointer;\n",
              "      display: none;\n",
              "      fill: #1967D2;\n",
              "      height: 32px;\n",
              "      padding: 0 0 0 0;\n",
              "      width: 32px;\n",
              "    }\n",
              "\n",
              "    .colab-df-convert:hover {\n",
              "      background-color: #E2EBFA;\n",
              "      box-shadow: 0px 1px 2px rgba(60, 64, 67, 0.3), 0px 1px 3px 1px rgba(60, 64, 67, 0.15);\n",
              "      fill: #174EA6;\n",
              "    }\n",
              "\n",
              "    [theme=dark] .colab-df-convert {\n",
              "      background-color: #3B4455;\n",
              "      fill: #D2E3FC;\n",
              "    }\n",
              "\n",
              "    [theme=dark] .colab-df-convert:hover {\n",
              "      background-color: #434B5C;\n",
              "      box-shadow: 0px 1px 3px 1px rgba(0, 0, 0, 0.15);\n",
              "      filter: drop-shadow(0px 1px 2px rgba(0, 0, 0, 0.3));\n",
              "      fill: #FFFFFF;\n",
              "    }\n",
              "  </style>\n",
              "\n",
              "      <script>\n",
              "        const buttonEl =\n",
              "          document.querySelector('#df-b0be1c45-b70d-4dc0-9561-506fd0fcc011 button.colab-df-convert');\n",
              "        buttonEl.style.display =\n",
              "          google.colab.kernel.accessAllowed ? 'block' : 'none';\n",
              "\n",
              "        async function convertToInteractive(key) {\n",
              "          const element = document.querySelector('#df-b0be1c45-b70d-4dc0-9561-506fd0fcc011');\n",
              "          const dataTable =\n",
              "            await google.colab.kernel.invokeFunction('convertToInteractive',\n",
              "                                                     [key], {});\n",
              "          if (!dataTable) return;\n",
              "\n",
              "          const docLinkHtml = 'Like what you see? Visit the ' +\n",
              "            '<a target=\"_blank\" href=https://colab.research.google.com/notebooks/data_table.ipynb>data table notebook</a>'\n",
              "            + ' to learn more about interactive tables.';\n",
              "          element.innerHTML = '';\n",
              "          dataTable['output_type'] = 'display_data';\n",
              "          await google.colab.output.renderOutput(dataTable, element);\n",
              "          const docLink = document.createElement('div');\n",
              "          docLink.innerHTML = docLinkHtml;\n",
              "          element.appendChild(docLink);\n",
              "        }\n",
              "      </script>\n",
              "    </div>\n",
              "  </div>\n",
              "  "
            ]
          },
          "metadata": {},
          "execution_count": 63
        }
      ],
      "source": [
        "df2.head()"
      ]
    },
    {
      "cell_type": "code",
      "source": [
        "sns.pairplot(df2)"
      ],
      "metadata": {
        "colab": {
          "base_uri": "https://localhost:8080/"
        },
        "id": "3Hi7P5g57Bu9",
        "outputId": "a66e0ce9-c43b-483d-e1eb-d364771f26d4"
      },
      "execution_count": null,
      "outputs": [
        {
          "output_type": "execute_result",
          "data": {
            "text/plain": [
              "<seaborn.axisgrid.PairGrid at 0x7f8d1c108790>"
            ]
          },
          "metadata": {},
          "execution_count": 64
        }
      ]
    },
    {
      "cell_type": "code",
      "execution_count": null,
      "metadata": {
        "colab": {
          "base_uri": "https://localhost:8080/"
        },
        "outputId": "9a7f3419-9f31-4194-d388-c5cb8d072449",
        "id": "jlBJYLj9s4rZ"
      },
      "outputs": [
        {
          "output_type": "stream",
          "name": "stdout",
          "text": [
            "<class 'pandas.core.frame.DataFrame'>\n",
            "RangeIndex: 1030 entries, 1 to 1030\n",
            "Data columns (total 9 columns):\n",
            " #   Column                Non-Null Count  Dtype \n",
            "---  ------                --------------  ----- \n",
            " 0   Cement                1030 non-null   object\n",
            " 1   Blast Furnace         1030 non-null   object\n",
            " 2   Fly Ash               1030 non-null   object\n",
            " 3   Water                 1030 non-null   object\n",
            " 4   Superplasticizer      1030 non-null   object\n",
            " 5   Coarse Aggregate      1030 non-null   object\n",
            " 6   Fine Aggregate        1030 non-null   object\n",
            " 7   Age                   1030 non-null   object\n",
            " 8   Concrete Compressive  1030 non-null   object\n",
            "dtypes: object(9)\n",
            "memory usage: 72.6+ KB\n"
          ]
        },
        {
          "output_type": "stream",
          "name": "stderr",
          "text": [
            "<ipython-input-23-759f7bf2d03e>:1: FutureWarning: null_counts is deprecated. Use show_counts instead\n",
            "  df2.info(verbose=True,null_counts=True)\n"
          ]
        }
      ],
      "source": [
        "df2.info(verbose=True,null_counts=True)"
      ]
    },
    {
      "cell_type": "code",
      "source": [
        "#df2= df2.apply(lambda x: x.str.replace(',','.'))"
      ],
      "metadata": {
        "id": "6lqVAv_am9lO"
      },
      "execution_count": null,
      "outputs": []
    },
    {
      "cell_type": "code",
      "execution_count": null,
      "metadata": {
        "colab": {
          "base_uri": "https://localhost:8080/"
        },
        "outputId": "6405536c-6e11-4429-f38a-d1b061f71d8c",
        "id": "86ChUhmczvg3"
      },
      "outputs": [
        {
          "output_type": "stream",
          "name": "stdout",
          "text": [
            "(1030, 8)\n",
            "(1030,)\n"
          ]
        }
      ],
      "source": [
        "#Separar target y datos de entrenamiento\n",
        "X2 = df2.drop(columns='Concrete Compressive').values\n",
        "print(X2.shape)\n",
        "y2 = df2['Concrete Compressive'].values\n",
        "print(y2.shape)"
      ]
    },
    {
      "cell_type": "code",
      "source": [
        "#Normalización datos\n",
        "from sklearn.preprocessing import MinMaxScaler\n",
        "scaler = MinMaxScaler()\n",
        "X_norm2 = scaler.fit_transform(X2)"
      ],
      "metadata": {
        "id": "1i3TK2Sczvg6"
      },
      "execution_count": null,
      "outputs": []
    },
    {
      "cell_type": "code",
      "execution_count": null,
      "metadata": {
        "colab": {
          "base_uri": "https://localhost:8080/"
        },
        "outputId": "c77c4f4b-9d7a-40d2-b4f3-7e32c51205c3",
        "id": "TRK0xkNXzvg7"
      },
      "outputs": [
        {
          "output_type": "stream",
          "name": "stdout",
          "text": [
            "<class 'numpy.ndarray'>\n",
            "(824, 8)\n"
          ]
        }
      ],
      "source": [
        "from sklearn.model_selection import train_test_split\n",
        "X_train2,X_test2,y_train2,y_test2 = train_test_split(X_norm2,y2,test_size=0.2)\n",
        "print(type(X_train2))\n",
        "print(X_train2.shape)"
      ]
    },
    {
      "cell_type": "markdown",
      "source": [
        "##**Modelo**"
      ],
      "metadata": {
        "id": "Nh4JsVfepRJ_"
      }
    },
    {
      "cell_type": "code",
      "source": [
        "def Secuential_model2():\n",
        "  model = Sequential()\n",
        "  model.add(Dense(64, input_dim = 8, activation = 'relu'))\n",
        "  model.add(Dense(64, activation = 'relu'))\n",
        "  model.add(Dense(40, activation = 'relu'))  \n",
        "  model.add(Dense(1))\n",
        "\n",
        "  model.summary()\n",
        "  #optimizer = tf.keras.optimizers.RMSprop(0.0099)\n",
        "  optimizer = 'adam'\n",
        "  model.compile(optimizer = optimizer, loss ='mean_squared_error', metrics = ['mse', 'mae'])\n",
        "\n",
        "  return model"
      ],
      "metadata": {
        "id": "7mIQPkVXpP0n"
      },
      "execution_count": null,
      "outputs": []
    },
    {
      "cell_type": "code",
      "source": [
        "model2= Secuential_model2()"
      ],
      "metadata": {
        "colab": {
          "base_uri": "https://localhost:8080/"
        },
        "id": "BHdGx8sINJBn",
        "outputId": "f61e01cf-8273-4061-9cf5-284e80a243b7"
      },
      "execution_count": null,
      "outputs": [
        {
          "output_type": "stream",
          "name": "stdout",
          "text": [
            "Model: \"sequential_10\"\n",
            "_________________________________________________________________\n",
            " Layer (type)                Output Shape              Param #   \n",
            "=================================================================\n",
            " dense_41 (Dense)            (None, 64)                576       \n",
            "                                                                 \n",
            " dense_42 (Dense)            (None, 64)                4160      \n",
            "                                                                 \n",
            " dense_43 (Dense)            (None, 40)                2600      \n",
            "                                                                 \n",
            " dense_44 (Dense)            (None, 1)                 41        \n",
            "                                                                 \n",
            "=================================================================\n",
            "Total params: 7,377\n",
            "Trainable params: 7,377\n",
            "Non-trainable params: 0\n",
            "_________________________________________________________________\n"
          ]
        }
      ]
    },
    {
      "cell_type": "code",
      "source": [
        "history = model2.fit(X_train2, y_train2, validation_split=0.2, epochs=200)"
      ],
      "metadata": {
        "colab": {
          "base_uri": "https://localhost:8080/"
        },
        "id": "Rhcl3LC96DxH",
        "outputId": "65de5a53-8c04-4259-c558-b2bf774be0e3"
      },
      "execution_count": null,
      "outputs": [
        {
          "output_type": "stream",
          "name": "stdout",
          "text": [
            "Epoch 1/200\n",
            "21/21 [==============================] - 1s 13ms/step - loss: 1510.2557 - mse: 1510.2557 - mae: 35.3017 - val_loss: 1468.4746 - val_mse: 1468.4746 - val_mae: 34.4647\n",
            "Epoch 2/200\n",
            "21/21 [==============================] - 0s 5ms/step - loss: 1342.4597 - mse: 1342.4597 - mae: 32.8439 - val_loss: 1170.6265 - val_mse: 1170.6265 - val_mae: 29.9323\n",
            "Epoch 3/200\n",
            "21/21 [==============================] - 0s 5ms/step - loss: 853.9039 - mse: 853.9039 - mae: 24.5379 - val_loss: 478.4066 - val_mse: 478.4066 - val_mae: 17.4986\n",
            "Epoch 4/200\n",
            "21/21 [==============================] - 0s 5ms/step - loss: 286.1733 - mse: 286.1733 - mae: 13.3574 - val_loss: 259.5273 - val_mse: 259.5273 - val_mae: 13.2661\n",
            "Epoch 5/200\n",
            "21/21 [==============================] - 0s 6ms/step - loss: 234.1024 - mse: 234.1024 - mae: 12.3666 - val_loss: 218.3138 - val_mse: 218.3138 - val_mae: 12.1280\n",
            "Epoch 6/200\n",
            "21/21 [==============================] - 0s 5ms/step - loss: 201.2758 - mse: 201.2758 - mae: 11.4343 - val_loss: 198.5650 - val_mse: 198.5650 - val_mae: 11.5888\n",
            "Epoch 7/200\n",
            "21/21 [==============================] - 0s 4ms/step - loss: 182.8322 - mse: 182.8322 - mae: 10.9311 - val_loss: 181.2607 - val_mse: 181.2607 - val_mae: 11.1459\n",
            "Epoch 8/200\n",
            "21/21 [==============================] - 0s 5ms/step - loss: 166.3827 - mse: 166.3827 - mae: 10.4398 - val_loss: 169.9000 - val_mse: 169.9000 - val_mae: 10.8598\n",
            "Epoch 9/200\n",
            "21/21 [==============================] - 0s 4ms/step - loss: 151.3135 - mse: 151.3135 - mae: 9.9811 - val_loss: 155.8158 - val_mse: 155.8158 - val_mae: 10.4142\n",
            "Epoch 10/200\n",
            "21/21 [==============================] - 0s 5ms/step - loss: 139.8967 - mse: 139.8967 - mae: 9.5830 - val_loss: 146.3328 - val_mse: 146.3328 - val_mae: 10.0764\n",
            "Epoch 11/200\n",
            "21/21 [==============================] - 0s 5ms/step - loss: 131.6032 - mse: 131.6032 - mae: 9.2623 - val_loss: 139.1457 - val_mse: 139.1457 - val_mae: 9.7690\n",
            "Epoch 12/200\n",
            "21/21 [==============================] - 0s 5ms/step - loss: 124.1234 - mse: 124.1234 - mae: 9.0283 - val_loss: 133.8369 - val_mse: 133.8369 - val_mae: 9.4988\n",
            "Epoch 13/200\n",
            "21/21 [==============================] - 0s 5ms/step - loss: 119.2008 - mse: 119.2008 - mae: 8.8317 - val_loss: 129.3587 - val_mse: 129.3587 - val_mae: 9.3078\n",
            "Epoch 14/200\n",
            "21/21 [==============================] - 0s 5ms/step - loss: 116.1326 - mse: 116.1326 - mae: 8.6691 - val_loss: 130.1205 - val_mse: 130.1205 - val_mae: 9.1961\n",
            "Epoch 15/200\n",
            "21/21 [==============================] - 0s 7ms/step - loss: 113.7928 - mse: 113.7928 - mae: 8.5636 - val_loss: 124.3487 - val_mse: 124.3487 - val_mae: 9.0508\n",
            "Epoch 16/200\n",
            "21/21 [==============================] - 0s 8ms/step - loss: 111.5727 - mse: 111.5727 - mae: 8.4547 - val_loss: 124.0731 - val_mse: 124.0731 - val_mae: 8.9786\n",
            "Epoch 17/200\n",
            "21/21 [==============================] - 0s 7ms/step - loss: 111.0423 - mse: 111.0423 - mae: 8.4219 - val_loss: 121.2313 - val_mse: 121.2313 - val_mae: 8.8934\n",
            "Epoch 18/200\n",
            "21/21 [==============================] - 0s 7ms/step - loss: 109.1609 - mse: 109.1609 - mae: 8.3078 - val_loss: 119.5279 - val_mse: 119.5279 - val_mae: 8.8239\n",
            "Epoch 19/200\n",
            "21/21 [==============================] - 0s 7ms/step - loss: 107.0617 - mse: 107.0617 - mae: 8.2561 - val_loss: 117.3680 - val_mse: 117.3680 - val_mae: 8.7883\n",
            "Epoch 20/200\n",
            "21/21 [==============================] - 0s 7ms/step - loss: 106.4371 - mse: 106.4371 - mae: 8.2028 - val_loss: 115.9854 - val_mse: 115.9854 - val_mae: 8.7164\n",
            "Epoch 21/200\n",
            "21/21 [==============================] - 0s 7ms/step - loss: 105.4039 - mse: 105.4039 - mae: 8.1658 - val_loss: 120.5834 - val_mse: 120.5834 - val_mae: 8.7277\n",
            "Epoch 22/200\n",
            "21/21 [==============================] - 0s 6ms/step - loss: 103.7276 - mse: 103.7276 - mae: 8.0568 - val_loss: 112.9500 - val_mse: 112.9500 - val_mae: 8.5623\n",
            "Epoch 23/200\n",
            "21/21 [==============================] - 0s 8ms/step - loss: 102.5964 - mse: 102.5964 - mae: 8.0238 - val_loss: 114.5455 - val_mse: 114.5455 - val_mae: 8.5261\n",
            "Epoch 24/200\n",
            "21/21 [==============================] - 0s 7ms/step - loss: 99.7893 - mse: 99.7893 - mae: 7.9518 - val_loss: 109.5928 - val_mse: 109.5928 - val_mae: 8.4076\n",
            "Epoch 25/200\n",
            "21/21 [==============================] - 0s 7ms/step - loss: 101.1468 - mse: 101.1468 - mae: 7.9456 - val_loss: 108.2918 - val_mse: 108.2918 - val_mae: 8.3173\n",
            "Epoch 26/200\n",
            "21/21 [==============================] - 0s 8ms/step - loss: 98.1133 - mse: 98.1133 - mae: 7.8064 - val_loss: 105.8737 - val_mse: 105.8737 - val_mae: 8.2403\n",
            "Epoch 27/200\n",
            "21/21 [==============================] - 0s 8ms/step - loss: 95.4990 - mse: 95.4990 - mae: 7.7271 - val_loss: 105.8037 - val_mse: 105.8037 - val_mae: 8.2591\n",
            "Epoch 28/200\n",
            "21/21 [==============================] - 0s 8ms/step - loss: 94.1470 - mse: 94.1470 - mae: 7.6046 - val_loss: 104.1998 - val_mse: 104.1998 - val_mae: 8.1020\n",
            "Epoch 29/200\n",
            "21/21 [==============================] - 0s 9ms/step - loss: 92.9159 - mse: 92.9159 - mae: 7.5961 - val_loss: 103.3262 - val_mse: 103.3262 - val_mae: 8.0449\n",
            "Epoch 30/200\n",
            "21/21 [==============================] - 0s 9ms/step - loss: 90.5315 - mse: 90.5315 - mae: 7.4965 - val_loss: 102.4736 - val_mse: 102.4736 - val_mae: 7.9381\n",
            "Epoch 31/200\n",
            "21/21 [==============================] - 0s 7ms/step - loss: 90.1287 - mse: 90.1287 - mae: 7.4143 - val_loss: 98.0644 - val_mse: 98.0644 - val_mae: 7.8026\n",
            "Epoch 32/200\n",
            "21/21 [==============================] - 0s 7ms/step - loss: 85.7127 - mse: 85.7127 - mae: 7.2358 - val_loss: 95.4864 - val_mse: 95.4864 - val_mae: 7.7047\n",
            "Epoch 33/200\n",
            "21/21 [==============================] - 0s 4ms/step - loss: 83.4185 - mse: 83.4185 - mae: 7.1364 - val_loss: 92.8898 - val_mse: 92.8898 - val_mae: 7.5947\n",
            "Epoch 34/200\n",
            "21/21 [==============================] - 0s 5ms/step - loss: 80.9228 - mse: 80.9228 - mae: 6.9907 - val_loss: 89.8979 - val_mse: 89.8979 - val_mae: 7.4886\n",
            "Epoch 35/200\n",
            "21/21 [==============================] - 0s 5ms/step - loss: 80.5296 - mse: 80.5296 - mae: 6.9151 - val_loss: 90.5444 - val_mse: 90.5444 - val_mae: 7.4740\n",
            "Epoch 36/200\n",
            "21/21 [==============================] - 0s 5ms/step - loss: 78.7413 - mse: 78.7413 - mae: 6.8793 - val_loss: 86.2179 - val_mse: 86.2179 - val_mae: 7.3017\n",
            "Epoch 37/200\n",
            "21/21 [==============================] - 0s 6ms/step - loss: 75.4538 - mse: 75.4538 - mae: 6.7126 - val_loss: 83.9216 - val_mse: 83.9216 - val_mae: 7.1826\n",
            "Epoch 38/200\n",
            "21/21 [==============================] - 0s 5ms/step - loss: 72.6669 - mse: 72.6669 - mae: 6.5400 - val_loss: 82.3381 - val_mse: 82.3381 - val_mae: 7.1008\n",
            "Epoch 39/200\n",
            "21/21 [==============================] - 0s 5ms/step - loss: 70.1879 - mse: 70.1879 - mae: 6.4120 - val_loss: 79.1041 - val_mse: 79.1041 - val_mae: 6.9786\n",
            "Epoch 40/200\n",
            "21/21 [==============================] - 0s 5ms/step - loss: 67.9700 - mse: 67.9700 - mae: 6.3420 - val_loss: 77.5879 - val_mse: 77.5879 - val_mae: 6.8744\n",
            "Epoch 41/200\n",
            "21/21 [==============================] - 0s 4ms/step - loss: 66.8521 - mse: 66.8521 - mae: 6.2397 - val_loss: 76.7579 - val_mse: 76.7579 - val_mae: 6.7823\n",
            "Epoch 42/200\n",
            "21/21 [==============================] - 0s 5ms/step - loss: 64.0264 - mse: 64.0264 - mae: 6.1462 - val_loss: 77.7044 - val_mse: 77.7044 - val_mae: 6.8842\n",
            "Epoch 43/200\n",
            "21/21 [==============================] - 0s 5ms/step - loss: 64.0791 - mse: 64.0791 - mae: 6.1309 - val_loss: 72.9600 - val_mse: 72.9600 - val_mae: 6.6647\n",
            "Epoch 44/200\n",
            "21/21 [==============================] - 0s 5ms/step - loss: 60.1698 - mse: 60.1698 - mae: 5.8963 - val_loss: 71.4667 - val_mse: 71.4667 - val_mae: 6.5846\n",
            "Epoch 45/200\n",
            "21/21 [==============================] - 0s 5ms/step - loss: 58.9364 - mse: 58.9364 - mae: 5.8443 - val_loss: 69.1122 - val_mse: 69.1122 - val_mae: 6.4637\n",
            "Epoch 46/200\n",
            "21/21 [==============================] - 0s 6ms/step - loss: 56.3136 - mse: 56.3136 - mae: 5.6741 - val_loss: 67.6437 - val_mse: 67.6437 - val_mae: 6.4251\n",
            "Epoch 47/200\n",
            "21/21 [==============================] - 0s 5ms/step - loss: 55.3551 - mse: 55.3551 - mae: 5.6509 - val_loss: 65.8180 - val_mse: 65.8180 - val_mae: 6.3650\n",
            "Epoch 48/200\n",
            "21/21 [==============================] - 0s 5ms/step - loss: 53.7422 - mse: 53.7422 - mae: 5.5385 - val_loss: 64.6260 - val_mse: 64.6260 - val_mae: 6.2465\n",
            "Epoch 49/200\n",
            "21/21 [==============================] - 0s 4ms/step - loss: 52.3601 - mse: 52.3601 - mae: 5.4908 - val_loss: 65.2041 - val_mse: 65.2041 - val_mae: 6.1226\n",
            "Epoch 50/200\n",
            "21/21 [==============================] - 0s 4ms/step - loss: 50.9064 - mse: 50.9064 - mae: 5.4175 - val_loss: 63.8372 - val_mse: 63.8372 - val_mae: 6.0702\n",
            "Epoch 51/200\n",
            "21/21 [==============================] - 0s 4ms/step - loss: 50.5300 - mse: 50.5300 - mae: 5.3718 - val_loss: 60.3691 - val_mse: 60.3691 - val_mae: 6.0455\n",
            "Epoch 52/200\n",
            "21/21 [==============================] - 0s 5ms/step - loss: 48.9041 - mse: 48.9041 - mae: 5.3023 - val_loss: 61.0611 - val_mse: 61.0611 - val_mae: 5.9583\n",
            "Epoch 53/200\n",
            "21/21 [==============================] - 0s 4ms/step - loss: 49.8060 - mse: 49.8060 - mae: 5.3439 - val_loss: 59.1331 - val_mse: 59.1331 - val_mae: 5.9530\n",
            "Epoch 54/200\n",
            "21/21 [==============================] - 0s 5ms/step - loss: 47.3304 - mse: 47.3304 - mae: 5.1874 - val_loss: 60.6349 - val_mse: 60.6349 - val_mae: 6.2564\n",
            "Epoch 55/200\n",
            "21/21 [==============================] - 0s 4ms/step - loss: 48.4137 - mse: 48.4137 - mae: 5.3352 - val_loss: 61.3584 - val_mse: 61.3584 - val_mae: 6.2925\n",
            "Epoch 56/200\n",
            "21/21 [==============================] - 0s 4ms/step - loss: 46.9923 - mse: 46.9923 - mae: 5.2147 - val_loss: 57.9006 - val_mse: 57.9006 - val_mae: 5.9554\n",
            "Epoch 57/200\n",
            "21/21 [==============================] - 0s 5ms/step - loss: 44.6547 - mse: 44.6547 - mae: 5.0880 - val_loss: 56.3112 - val_mse: 56.3112 - val_mae: 5.8813\n",
            "Epoch 58/200\n",
            "21/21 [==============================] - 0s 4ms/step - loss: 45.0278 - mse: 45.0278 - mae: 5.0573 - val_loss: 56.1410 - val_mse: 56.1410 - val_mae: 5.9364\n",
            "Epoch 59/200\n",
            "21/21 [==============================] - 0s 4ms/step - loss: 45.2174 - mse: 45.2174 - mae: 5.0683 - val_loss: 55.6640 - val_mse: 55.6640 - val_mae: 5.9801\n",
            "Epoch 60/200\n",
            "21/21 [==============================] - 0s 5ms/step - loss: 43.2626 - mse: 43.2626 - mae: 5.0093 - val_loss: 55.6877 - val_mse: 55.6877 - val_mae: 5.9000\n",
            "Epoch 61/200\n",
            "21/21 [==============================] - 0s 5ms/step - loss: 42.9786 - mse: 42.9786 - mae: 4.9543 - val_loss: 54.3670 - val_mse: 54.3670 - val_mae: 5.7432\n",
            "Epoch 62/200\n",
            "21/21 [==============================] - 0s 4ms/step - loss: 41.7740 - mse: 41.7740 - mae: 4.9322 - val_loss: 55.8577 - val_mse: 55.8577 - val_mae: 5.7533\n",
            "Epoch 63/200\n",
            "21/21 [==============================] - 0s 4ms/step - loss: 42.9185 - mse: 42.9185 - mae: 4.9898 - val_loss: 54.1810 - val_mse: 54.1810 - val_mae: 5.8521\n",
            "Epoch 64/200\n",
            "21/21 [==============================] - 0s 4ms/step - loss: 41.6722 - mse: 41.6722 - mae: 4.9290 - val_loss: 54.6407 - val_mse: 54.6407 - val_mae: 5.7717\n",
            "Epoch 65/200\n",
            "21/21 [==============================] - 0s 6ms/step - loss: 41.2837 - mse: 41.2837 - mae: 4.9087 - val_loss: 53.2964 - val_mse: 53.2964 - val_mae: 5.7015\n",
            "Epoch 66/200\n",
            "21/21 [==============================] - 0s 5ms/step - loss: 43.8338 - mse: 43.8338 - mae: 5.0599 - val_loss: 52.7551 - val_mse: 52.7551 - val_mae: 5.7487\n",
            "Epoch 67/200\n",
            "21/21 [==============================] - 0s 4ms/step - loss: 41.0117 - mse: 41.0117 - mae: 4.8801 - val_loss: 59.0025 - val_mse: 59.0025 - val_mae: 6.1714\n",
            "Epoch 68/200\n",
            "21/21 [==============================] - 0s 6ms/step - loss: 42.7877 - mse: 42.7877 - mae: 5.0345 - val_loss: 52.7646 - val_mse: 52.7646 - val_mae: 5.6428\n",
            "Epoch 69/200\n",
            "21/21 [==============================] - 0s 5ms/step - loss: 41.1244 - mse: 41.1244 - mae: 4.8943 - val_loss: 53.8920 - val_mse: 53.8920 - val_mae: 5.7707\n",
            "Epoch 70/200\n",
            "21/21 [==============================] - 0s 4ms/step - loss: 40.9795 - mse: 40.9795 - mae: 4.8922 - val_loss: 52.6092 - val_mse: 52.6092 - val_mae: 5.6637\n",
            "Epoch 71/200\n",
            "21/21 [==============================] - 0s 5ms/step - loss: 41.1546 - mse: 41.1546 - mae: 4.8804 - val_loss: 57.1061 - val_mse: 57.1061 - val_mae: 6.1044\n",
            "Epoch 72/200\n",
            "21/21 [==============================] - 0s 5ms/step - loss: 40.5532 - mse: 40.5532 - mae: 4.8596 - val_loss: 54.0566 - val_mse: 54.0566 - val_mae: 5.8001\n",
            "Epoch 73/200\n",
            "21/21 [==============================] - 0s 5ms/step - loss: 39.6894 - mse: 39.6894 - mae: 4.8156 - val_loss: 52.0488 - val_mse: 52.0488 - val_mae: 5.6906\n",
            "Epoch 74/200\n",
            "21/21 [==============================] - 0s 5ms/step - loss: 39.7370 - mse: 39.7370 - mae: 4.8161 - val_loss: 51.0905 - val_mse: 51.0905 - val_mae: 5.6285\n",
            "Epoch 75/200\n",
            "21/21 [==============================] - 0s 5ms/step - loss: 39.3430 - mse: 39.3430 - mae: 4.7879 - val_loss: 53.4598 - val_mse: 53.4598 - val_mae: 5.7767\n",
            "Epoch 76/200\n",
            "21/21 [==============================] - 0s 5ms/step - loss: 40.3931 - mse: 40.3931 - mae: 4.8313 - val_loss: 58.1782 - val_mse: 58.1782 - val_mae: 6.1634\n",
            "Epoch 77/200\n",
            "21/21 [==============================] - 0s 4ms/step - loss: 40.0344 - mse: 40.0344 - mae: 4.8339 - val_loss: 54.1961 - val_mse: 54.1961 - val_mae: 5.8538\n",
            "Epoch 78/200\n",
            "21/21 [==============================] - 0s 5ms/step - loss: 38.9315 - mse: 38.9315 - mae: 4.7690 - val_loss: 51.8007 - val_mse: 51.8007 - val_mae: 5.7287\n",
            "Epoch 79/200\n",
            "21/21 [==============================] - 0s 5ms/step - loss: 38.6708 - mse: 38.6708 - mae: 4.7912 - val_loss: 51.6309 - val_mse: 51.6309 - val_mae: 5.6712\n",
            "Epoch 80/200\n",
            "21/21 [==============================] - 0s 5ms/step - loss: 39.1397 - mse: 39.1397 - mae: 4.8042 - val_loss: 52.9127 - val_mse: 52.9127 - val_mae: 5.8461\n",
            "Epoch 81/200\n",
            "21/21 [==============================] - 0s 5ms/step - loss: 38.6789 - mse: 38.6789 - mae: 4.7751 - val_loss: 50.9065 - val_mse: 50.9065 - val_mae: 5.6930\n",
            "Epoch 82/200\n",
            "21/21 [==============================] - 0s 5ms/step - loss: 38.8966 - mse: 38.8966 - mae: 4.7564 - val_loss: 52.2011 - val_mse: 52.2011 - val_mae: 5.5556\n",
            "Epoch 83/200\n",
            "21/21 [==============================] - 0s 5ms/step - loss: 38.8905 - mse: 38.8905 - mae: 4.7506 - val_loss: 51.8521 - val_mse: 51.8521 - val_mae: 5.7445\n",
            "Epoch 84/200\n",
            "21/21 [==============================] - 0s 4ms/step - loss: 37.5096 - mse: 37.5096 - mae: 4.7106 - val_loss: 50.8359 - val_mse: 50.8359 - val_mae: 5.6145\n",
            "Epoch 85/200\n",
            "21/21 [==============================] - 0s 4ms/step - loss: 37.6098 - mse: 37.6098 - mae: 4.7022 - val_loss: 51.2884 - val_mse: 51.2884 - val_mae: 5.6839\n",
            "Epoch 86/200\n",
            "21/21 [==============================] - 0s 5ms/step - loss: 37.7651 - mse: 37.7651 - mae: 4.7170 - val_loss: 49.7782 - val_mse: 49.7782 - val_mae: 5.5700\n",
            "Epoch 87/200\n",
            "21/21 [==============================] - 0s 5ms/step - loss: 38.8900 - mse: 38.8900 - mae: 4.7641 - val_loss: 53.3134 - val_mse: 53.3134 - val_mae: 5.8402\n",
            "Epoch 88/200\n",
            "21/21 [==============================] - 0s 4ms/step - loss: 38.6753 - mse: 38.6753 - mae: 4.8456 - val_loss: 52.2180 - val_mse: 52.2180 - val_mae: 5.7641\n",
            "Epoch 89/200\n",
            "21/21 [==============================] - 0s 4ms/step - loss: 37.0029 - mse: 37.0029 - mae: 4.6644 - val_loss: 50.3671 - val_mse: 50.3671 - val_mae: 5.5873\n",
            "Epoch 90/200\n",
            "21/21 [==============================] - 0s 5ms/step - loss: 38.2843 - mse: 38.2843 - mae: 4.7210 - val_loss: 49.5561 - val_mse: 49.5561 - val_mae: 5.5665\n",
            "Epoch 91/200\n",
            "21/21 [==============================] - 0s 4ms/step - loss: 36.7910 - mse: 36.7910 - mae: 4.6578 - val_loss: 50.4356 - val_mse: 50.4356 - val_mae: 5.6363\n",
            "Epoch 92/200\n",
            "21/21 [==============================] - 0s 5ms/step - loss: 36.9018 - mse: 36.9018 - mae: 4.7076 - val_loss: 49.2328 - val_mse: 49.2328 - val_mae: 5.5634\n",
            "Epoch 93/200\n",
            "21/21 [==============================] - 0s 6ms/step - loss: 37.1547 - mse: 37.1547 - mae: 4.7055 - val_loss: 51.6414 - val_mse: 51.6414 - val_mae: 5.7246\n",
            "Epoch 94/200\n",
            "21/21 [==============================] - 0s 4ms/step - loss: 35.5997 - mse: 35.5997 - mae: 4.6279 - val_loss: 50.4232 - val_mse: 50.4232 - val_mae: 5.4844\n",
            "Epoch 95/200\n",
            "21/21 [==============================] - 0s 4ms/step - loss: 39.9878 - mse: 39.9878 - mae: 4.8812 - val_loss: 48.3583 - val_mse: 48.3583 - val_mae: 5.4768\n",
            "Epoch 96/200\n",
            "21/21 [==============================] - 0s 5ms/step - loss: 37.7541 - mse: 37.7541 - mae: 4.7685 - val_loss: 53.4442 - val_mse: 53.4442 - val_mae: 5.9104\n",
            "Epoch 97/200\n",
            "21/21 [==============================] - 0s 5ms/step - loss: 37.3224 - mse: 37.3224 - mae: 4.7128 - val_loss: 49.1415 - val_mse: 49.1415 - val_mae: 5.4831\n",
            "Epoch 98/200\n",
            "21/21 [==============================] - 0s 4ms/step - loss: 35.7706 - mse: 35.7706 - mae: 4.6593 - val_loss: 48.0782 - val_mse: 48.0782 - val_mae: 5.4304\n",
            "Epoch 99/200\n",
            "21/21 [==============================] - 0s 4ms/step - loss: 36.8402 - mse: 36.8402 - mae: 4.6580 - val_loss: 52.9172 - val_mse: 52.9172 - val_mae: 5.8206\n",
            "Epoch 100/200\n",
            "21/21 [==============================] - 0s 5ms/step - loss: 36.4099 - mse: 36.4099 - mae: 4.6508 - val_loss: 47.7131 - val_mse: 47.7131 - val_mae: 5.4565\n",
            "Epoch 101/200\n",
            "21/21 [==============================] - 0s 5ms/step - loss: 36.1094 - mse: 36.1094 - mae: 4.6404 - val_loss: 49.8615 - val_mse: 49.8615 - val_mae: 5.5069\n",
            "Epoch 102/200\n",
            "21/21 [==============================] - 0s 5ms/step - loss: 36.5456 - mse: 36.5456 - mae: 4.6636 - val_loss: 49.0280 - val_mse: 49.0280 - val_mae: 5.3955\n",
            "Epoch 103/200\n",
            "21/21 [==============================] - 0s 4ms/step - loss: 36.6964 - mse: 36.6964 - mae: 4.6793 - val_loss: 47.3536 - val_mse: 47.3536 - val_mae: 5.4339\n",
            "Epoch 104/200\n",
            "21/21 [==============================] - 0s 5ms/step - loss: 35.8678 - mse: 35.8678 - mae: 4.5704 - val_loss: 53.6892 - val_mse: 53.6892 - val_mae: 5.8384\n",
            "Epoch 105/200\n",
            "21/21 [==============================] - 0s 5ms/step - loss: 35.8081 - mse: 35.8081 - mae: 4.6299 - val_loss: 48.3195 - val_mse: 48.3195 - val_mae: 5.4965\n",
            "Epoch 106/200\n",
            "21/21 [==============================] - 0s 4ms/step - loss: 36.6507 - mse: 36.6507 - mae: 4.6880 - val_loss: 48.8901 - val_mse: 48.8901 - val_mae: 5.3988\n",
            "Epoch 107/200\n",
            "21/21 [==============================] - 0s 4ms/step - loss: 35.6660 - mse: 35.6660 - mae: 4.6161 - val_loss: 47.8866 - val_mse: 47.8866 - val_mae: 5.4629\n",
            "Epoch 108/200\n",
            "21/21 [==============================] - 0s 5ms/step - loss: 35.4102 - mse: 35.4102 - mae: 4.5808 - val_loss: 48.3156 - val_mse: 48.3156 - val_mae: 5.4343\n",
            "Epoch 109/200\n",
            "21/21 [==============================] - 0s 5ms/step - loss: 35.4546 - mse: 35.4546 - mae: 4.5228 - val_loss: 48.0633 - val_mse: 48.0633 - val_mae: 5.3669\n",
            "Epoch 110/200\n",
            "21/21 [==============================] - 0s 5ms/step - loss: 35.3411 - mse: 35.3411 - mae: 4.5665 - val_loss: 46.9984 - val_mse: 46.9984 - val_mae: 5.4102\n",
            "Epoch 111/200\n",
            "21/21 [==============================] - 0s 5ms/step - loss: 34.4710 - mse: 34.4710 - mae: 4.5143 - val_loss: 48.8927 - val_mse: 48.8927 - val_mae: 5.3869\n",
            "Epoch 112/200\n",
            "21/21 [==============================] - 0s 5ms/step - loss: 35.5550 - mse: 35.5550 - mae: 4.5765 - val_loss: 47.9353 - val_mse: 47.9353 - val_mae: 5.4701\n",
            "Epoch 113/200\n",
            "21/21 [==============================] - 0s 5ms/step - loss: 34.6404 - mse: 34.6404 - mae: 4.5425 - val_loss: 47.6831 - val_mse: 47.6831 - val_mae: 5.4275\n",
            "Epoch 114/200\n",
            "21/21 [==============================] - 0s 6ms/step - loss: 35.2101 - mse: 35.2101 - mae: 4.6059 - val_loss: 50.1050 - val_mse: 50.1050 - val_mae: 5.6188\n",
            "Epoch 115/200\n",
            "21/21 [==============================] - 0s 5ms/step - loss: 36.7921 - mse: 36.7921 - mae: 4.6420 - val_loss: 47.0400 - val_mse: 47.0400 - val_mae: 5.3887\n",
            "Epoch 116/200\n",
            "21/21 [==============================] - 0s 5ms/step - loss: 35.2988 - mse: 35.2988 - mae: 4.6207 - val_loss: 47.0144 - val_mse: 47.0144 - val_mae: 5.3528\n",
            "Epoch 117/200\n",
            "21/21 [==============================] - 0s 5ms/step - loss: 33.8383 - mse: 33.8383 - mae: 4.4720 - val_loss: 47.3433 - val_mse: 47.3433 - val_mae: 5.4190\n",
            "Epoch 118/200\n",
            "21/21 [==============================] - 0s 5ms/step - loss: 35.0491 - mse: 35.0491 - mae: 4.5670 - val_loss: 51.3130 - val_mse: 51.3130 - val_mae: 5.7044\n",
            "Epoch 119/200\n",
            "21/21 [==============================] - 0s 5ms/step - loss: 35.9619 - mse: 35.9619 - mae: 4.6382 - val_loss: 50.1091 - val_mse: 50.1091 - val_mae: 5.4769\n",
            "Epoch 120/200\n",
            "21/21 [==============================] - 0s 7ms/step - loss: 36.1960 - mse: 36.1960 - mae: 4.6589 - val_loss: 48.4567 - val_mse: 48.4567 - val_mae: 5.4949\n",
            "Epoch 121/200\n",
            "21/21 [==============================] - 0s 6ms/step - loss: 34.6608 - mse: 34.6608 - mae: 4.5721 - val_loss: 50.7674 - val_mse: 50.7674 - val_mae: 5.6609\n",
            "Epoch 122/200\n",
            "21/21 [==============================] - 0s 8ms/step - loss: 33.8949 - mse: 33.8949 - mae: 4.4952 - val_loss: 47.1015 - val_mse: 47.1015 - val_mae: 5.3613\n",
            "Epoch 123/200\n",
            "21/21 [==============================] - 0s 7ms/step - loss: 33.4524 - mse: 33.4524 - mae: 4.4316 - val_loss: 47.8008 - val_mse: 47.8008 - val_mae: 5.4340\n",
            "Epoch 124/200\n",
            "21/21 [==============================] - 0s 8ms/step - loss: 33.5617 - mse: 33.5617 - mae: 4.4567 - val_loss: 47.4892 - val_mse: 47.4892 - val_mae: 5.3375\n",
            "Epoch 125/200\n",
            "21/21 [==============================] - 0s 8ms/step - loss: 34.0636 - mse: 34.0636 - mae: 4.5152 - val_loss: 46.6393 - val_mse: 46.6393 - val_mae: 5.3355\n",
            "Epoch 126/200\n",
            "21/21 [==============================] - 0s 8ms/step - loss: 33.6062 - mse: 33.6062 - mae: 4.4857 - val_loss: 47.3071 - val_mse: 47.3071 - val_mae: 5.3326\n",
            "Epoch 127/200\n",
            "21/21 [==============================] - 0s 8ms/step - loss: 33.0920 - mse: 33.0920 - mae: 4.4471 - val_loss: 46.8658 - val_mse: 46.8658 - val_mae: 5.3652\n",
            "Epoch 128/200\n",
            "21/21 [==============================] - 0s 7ms/step - loss: 33.5926 - mse: 33.5926 - mae: 4.4578 - val_loss: 46.6357 - val_mse: 46.6357 - val_mae: 5.3121\n",
            "Epoch 129/200\n",
            "21/21 [==============================] - 0s 8ms/step - loss: 34.7807 - mse: 34.7807 - mae: 4.5395 - val_loss: 51.7690 - val_mse: 51.7690 - val_mae: 5.6795\n",
            "Epoch 130/200\n",
            "21/21 [==============================] - 0s 7ms/step - loss: 33.5007 - mse: 33.5007 - mae: 4.4491 - val_loss: 46.6484 - val_mse: 46.6484 - val_mae: 5.3276\n",
            "Epoch 131/200\n",
            "21/21 [==============================] - 0s 7ms/step - loss: 33.5028 - mse: 33.5028 - mae: 4.4841 - val_loss: 47.4429 - val_mse: 47.4429 - val_mae: 5.3177\n",
            "Epoch 132/200\n",
            "21/21 [==============================] - 0s 6ms/step - loss: 33.9603 - mse: 33.9603 - mae: 4.4657 - val_loss: 50.1651 - val_mse: 50.1651 - val_mae: 5.5929\n",
            "Epoch 133/200\n",
            "21/21 [==============================] - 0s 7ms/step - loss: 33.0218 - mse: 33.0218 - mae: 4.4614 - val_loss: 51.6560 - val_mse: 51.6560 - val_mae: 5.6693\n",
            "Epoch 134/200\n",
            "21/21 [==============================] - 0s 7ms/step - loss: 33.1717 - mse: 33.1717 - mae: 4.4495 - val_loss: 47.0672 - val_mse: 47.0672 - val_mae: 5.3406\n",
            "Epoch 135/200\n",
            "21/21 [==============================] - 0s 7ms/step - loss: 32.4958 - mse: 32.4958 - mae: 4.3748 - val_loss: 47.7593 - val_mse: 47.7593 - val_mae: 5.4198\n",
            "Epoch 136/200\n",
            "21/21 [==============================] - 0s 7ms/step - loss: 33.1221 - mse: 33.1221 - mae: 4.4101 - val_loss: 51.3358 - val_mse: 51.3358 - val_mae: 5.6265\n",
            "Epoch 137/200\n",
            "21/21 [==============================] - 0s 7ms/step - loss: 33.8597 - mse: 33.8597 - mae: 4.4779 - val_loss: 46.3911 - val_mse: 46.3911 - val_mae: 5.2821\n",
            "Epoch 138/200\n",
            "21/21 [==============================] - 0s 7ms/step - loss: 33.1029 - mse: 33.1029 - mae: 4.4357 - val_loss: 48.9568 - val_mse: 48.9568 - val_mae: 5.4831\n",
            "Epoch 139/200\n",
            "21/21 [==============================] - 0s 7ms/step - loss: 33.7089 - mse: 33.7089 - mae: 4.5228 - val_loss: 46.9049 - val_mse: 46.9049 - val_mae: 5.3645\n",
            "Epoch 140/200\n",
            "21/21 [==============================] - 0s 8ms/step - loss: 32.0244 - mse: 32.0244 - mae: 4.3416 - val_loss: 48.2153 - val_mse: 48.2153 - val_mae: 5.4512\n",
            "Epoch 141/200\n",
            "21/21 [==============================] - 0s 5ms/step - loss: 31.8868 - mse: 31.8868 - mae: 4.3227 - val_loss: 48.7317 - val_mse: 48.7317 - val_mae: 5.4676\n",
            "Epoch 142/200\n",
            "21/21 [==============================] - 0s 5ms/step - loss: 32.8862 - mse: 32.8862 - mae: 4.4404 - val_loss: 46.2238 - val_mse: 46.2238 - val_mae: 5.2989\n",
            "Epoch 143/200\n",
            "21/21 [==============================] - 0s 6ms/step - loss: 31.9480 - mse: 31.9480 - mae: 4.3301 - val_loss: 46.4412 - val_mse: 46.4412 - val_mae: 5.3087\n",
            "Epoch 144/200\n",
            "21/21 [==============================] - 0s 5ms/step - loss: 32.5241 - mse: 32.5241 - mae: 4.3735 - val_loss: 48.7651 - val_mse: 48.7651 - val_mae: 5.4781\n",
            "Epoch 145/200\n",
            "21/21 [==============================] - 0s 5ms/step - loss: 32.9625 - mse: 32.9625 - mae: 4.3942 - val_loss: 46.5809 - val_mse: 46.5809 - val_mae: 5.2941\n",
            "Epoch 146/200\n",
            "21/21 [==============================] - 0s 4ms/step - loss: 32.2132 - mse: 32.2132 - mae: 4.3562 - val_loss: 48.5175 - val_mse: 48.5175 - val_mae: 5.4639\n",
            "Epoch 147/200\n",
            "21/21 [==============================] - 0s 5ms/step - loss: 32.0240 - mse: 32.0240 - mae: 4.3607 - val_loss: 47.2387 - val_mse: 47.2387 - val_mae: 5.3590\n",
            "Epoch 148/200\n",
            "21/21 [==============================] - 0s 6ms/step - loss: 31.6607 - mse: 31.6607 - mae: 4.3401 - val_loss: 47.3019 - val_mse: 47.3019 - val_mae: 5.3510\n",
            "Epoch 149/200\n",
            "21/21 [==============================] - 0s 6ms/step - loss: 31.7315 - mse: 31.7315 - mae: 4.2949 - val_loss: 46.7242 - val_mse: 46.7242 - val_mae: 5.3072\n",
            "Epoch 150/200\n",
            "21/21 [==============================] - 0s 4ms/step - loss: 31.8423 - mse: 31.8423 - mae: 4.3029 - val_loss: 46.9783 - val_mse: 46.9783 - val_mae: 5.3295\n",
            "Epoch 151/200\n",
            "21/21 [==============================] - 0s 6ms/step - loss: 32.9517 - mse: 32.9517 - mae: 4.4332 - val_loss: 46.1746 - val_mse: 46.1746 - val_mae: 5.2730\n",
            "Epoch 152/200\n",
            "21/21 [==============================] - 0s 5ms/step - loss: 32.5109 - mse: 32.5109 - mae: 4.3983 - val_loss: 51.3510 - val_mse: 51.3510 - val_mae: 5.6230\n",
            "Epoch 153/200\n",
            "21/21 [==============================] - 0s 5ms/step - loss: 34.4129 - mse: 34.4129 - mae: 4.5561 - val_loss: 47.5220 - val_mse: 47.5220 - val_mae: 5.3622\n",
            "Epoch 154/200\n",
            "21/21 [==============================] - 0s 5ms/step - loss: 32.1843 - mse: 32.1843 - mae: 4.3348 - val_loss: 46.2755 - val_mse: 46.2755 - val_mae: 5.2772\n",
            "Epoch 155/200\n",
            "21/21 [==============================] - 0s 5ms/step - loss: 31.6124 - mse: 31.6124 - mae: 4.2914 - val_loss: 49.1753 - val_mse: 49.1753 - val_mae: 5.4613\n",
            "Epoch 156/200\n",
            "21/21 [==============================] - 0s 6ms/step - loss: 31.6257 - mse: 31.6257 - mae: 4.3192 - val_loss: 46.6236 - val_mse: 46.6236 - val_mae: 5.3088\n",
            "Epoch 157/200\n",
            "21/21 [==============================] - 0s 6ms/step - loss: 31.3435 - mse: 31.3435 - mae: 4.2953 - val_loss: 46.7154 - val_mse: 46.7154 - val_mae: 5.2804\n",
            "Epoch 158/200\n",
            "21/21 [==============================] - 0s 5ms/step - loss: 31.2373 - mse: 31.2373 - mae: 4.2547 - val_loss: 50.3895 - val_mse: 50.3895 - val_mae: 5.5327\n",
            "Epoch 159/200\n",
            "21/21 [==============================] - 0s 6ms/step - loss: 31.0457 - mse: 31.0457 - mae: 4.2671 - val_loss: 46.2692 - val_mse: 46.2692 - val_mae: 5.2586\n",
            "Epoch 160/200\n",
            "21/21 [==============================] - 0s 5ms/step - loss: 31.2877 - mse: 31.2877 - mae: 4.3239 - val_loss: 45.9482 - val_mse: 45.9482 - val_mae: 5.2419\n",
            "Epoch 161/200\n",
            "21/21 [==============================] - 0s 5ms/step - loss: 31.0399 - mse: 31.0399 - mae: 4.2614 - val_loss: 48.3597 - val_mse: 48.3597 - val_mae: 5.3364\n",
            "Epoch 162/200\n",
            "21/21 [==============================] - 0s 5ms/step - loss: 31.8032 - mse: 31.8032 - mae: 4.3357 - val_loss: 46.3249 - val_mse: 46.3249 - val_mae: 5.2670\n",
            "Epoch 163/200\n",
            "21/21 [==============================] - 0s 5ms/step - loss: 30.7766 - mse: 30.7766 - mae: 4.2307 - val_loss: 46.8733 - val_mse: 46.8733 - val_mae: 5.2922\n",
            "Epoch 164/200\n",
            "21/21 [==============================] - 0s 4ms/step - loss: 30.7235 - mse: 30.7235 - mae: 4.2285 - val_loss: 48.9844 - val_mse: 48.9844 - val_mae: 5.4394\n",
            "Epoch 165/200\n",
            "21/21 [==============================] - 0s 5ms/step - loss: 30.9186 - mse: 30.9186 - mae: 4.2612 - val_loss: 48.6101 - val_mse: 48.6101 - val_mae: 5.4133\n",
            "Epoch 166/200\n",
            "21/21 [==============================] - 0s 6ms/step - loss: 30.5022 - mse: 30.5022 - mae: 4.2304 - val_loss: 46.7220 - val_mse: 46.7220 - val_mae: 5.3072\n",
            "Epoch 167/200\n",
            "21/21 [==============================] - 0s 5ms/step - loss: 30.4771 - mse: 30.4771 - mae: 4.2113 - val_loss: 47.0222 - val_mse: 47.0222 - val_mae: 5.3056\n",
            "Epoch 168/200\n",
            "21/21 [==============================] - 0s 5ms/step - loss: 30.0456 - mse: 30.0456 - mae: 4.1769 - val_loss: 45.9728 - val_mse: 45.9728 - val_mae: 5.2473\n",
            "Epoch 169/200\n",
            "21/21 [==============================] - 0s 5ms/step - loss: 30.4697 - mse: 30.4697 - mae: 4.2324 - val_loss: 50.1214 - val_mse: 50.1214 - val_mae: 5.4896\n",
            "Epoch 170/200\n",
            "21/21 [==============================] - 0s 5ms/step - loss: 30.3961 - mse: 30.3961 - mae: 4.1827 - val_loss: 50.6516 - val_mse: 50.6516 - val_mae: 5.5273\n",
            "Epoch 171/200\n",
            "21/21 [==============================] - 0s 4ms/step - loss: 30.6610 - mse: 30.6610 - mae: 4.2332 - val_loss: 45.9643 - val_mse: 45.9643 - val_mae: 5.2410\n",
            "Epoch 172/200\n",
            "21/21 [==============================] - 0s 6ms/step - loss: 30.4697 - mse: 30.4697 - mae: 4.2089 - val_loss: 46.2797 - val_mse: 46.2797 - val_mae: 5.2383\n",
            "Epoch 173/200\n",
            "21/21 [==============================] - 0s 6ms/step - loss: 30.7520 - mse: 30.7520 - mae: 4.2494 - val_loss: 46.7276 - val_mse: 46.7276 - val_mae: 5.2645\n",
            "Epoch 174/200\n",
            "21/21 [==============================] - 0s 6ms/step - loss: 30.2536 - mse: 30.2536 - mae: 4.2377 - val_loss: 45.9730 - val_mse: 45.9730 - val_mae: 5.2435\n",
            "Epoch 175/200\n",
            "21/21 [==============================] - 0s 6ms/step - loss: 29.2533 - mse: 29.2533 - mae: 4.1199 - val_loss: 45.7335 - val_mse: 45.7335 - val_mae: 5.2139\n",
            "Epoch 176/200\n",
            "21/21 [==============================] - 0s 5ms/step - loss: 30.7980 - mse: 30.7980 - mae: 4.2618 - val_loss: 47.2384 - val_mse: 47.2384 - val_mae: 5.2851\n",
            "Epoch 177/200\n",
            "21/21 [==============================] - 0s 5ms/step - loss: 30.1735 - mse: 30.1735 - mae: 4.1851 - val_loss: 47.3782 - val_mse: 47.3782 - val_mae: 5.3035\n",
            "Epoch 178/200\n",
            "21/21 [==============================] - 0s 5ms/step - loss: 30.0224 - mse: 30.0224 - mae: 4.1937 - val_loss: 46.1241 - val_mse: 46.1241 - val_mae: 5.2447\n",
            "Epoch 179/200\n",
            "21/21 [==============================] - 0s 5ms/step - loss: 30.4945 - mse: 30.4945 - mae: 4.2112 - val_loss: 47.0296 - val_mse: 47.0296 - val_mae: 5.2845\n",
            "Epoch 180/200\n",
            "21/21 [==============================] - 0s 5ms/step - loss: 30.4676 - mse: 30.4676 - mae: 4.2492 - val_loss: 46.1154 - val_mse: 46.1154 - val_mae: 5.2415\n",
            "Epoch 181/200\n",
            "21/21 [==============================] - 0s 5ms/step - loss: 29.5933 - mse: 29.5933 - mae: 4.1668 - val_loss: 46.3199 - val_mse: 46.3199 - val_mae: 5.2400\n",
            "Epoch 182/200\n",
            "21/21 [==============================] - 0s 6ms/step - loss: 30.9002 - mse: 30.9002 - mae: 4.2704 - val_loss: 46.7008 - val_mse: 46.7008 - val_mae: 5.2980\n",
            "Epoch 183/200\n",
            "21/21 [==============================] - 0s 5ms/step - loss: 31.8612 - mse: 31.8612 - mae: 4.3898 - val_loss: 45.6086 - val_mse: 45.6086 - val_mae: 5.1852\n",
            "Epoch 184/200\n",
            "21/21 [==============================] - 0s 6ms/step - loss: 30.0553 - mse: 30.0553 - mae: 4.1710 - val_loss: 46.3339 - val_mse: 46.3339 - val_mae: 5.2545\n",
            "Epoch 185/200\n",
            "21/21 [==============================] - 0s 4ms/step - loss: 29.3558 - mse: 29.3558 - mae: 4.1441 - val_loss: 46.6705 - val_mse: 46.6705 - val_mae: 5.2488\n",
            "Epoch 186/200\n",
            "21/21 [==============================] - 0s 5ms/step - loss: 28.9561 - mse: 28.9561 - mae: 4.0585 - val_loss: 45.9293 - val_mse: 45.9293 - val_mae: 5.2125\n",
            "Epoch 187/200\n",
            "21/21 [==============================] - 0s 5ms/step - loss: 29.6600 - mse: 29.6600 - mae: 4.1341 - val_loss: 48.5648 - val_mse: 48.5648 - val_mae: 5.3628\n",
            "Epoch 188/200\n",
            "21/21 [==============================] - 0s 5ms/step - loss: 29.1129 - mse: 29.1129 - mae: 4.0737 - val_loss: 45.6736 - val_mse: 45.6736 - val_mae: 5.1938\n",
            "Epoch 189/200\n",
            "21/21 [==============================] - 0s 6ms/step - loss: 29.8994 - mse: 29.8994 - mae: 4.2081 - val_loss: 45.6930 - val_mse: 45.6930 - val_mae: 5.1927\n",
            "Epoch 190/200\n",
            "21/21 [==============================] - 0s 6ms/step - loss: 33.1602 - mse: 33.1602 - mae: 4.4293 - val_loss: 46.2555 - val_mse: 46.2555 - val_mae: 5.2107\n",
            "Epoch 191/200\n",
            "21/21 [==============================] - 0s 7ms/step - loss: 28.7403 - mse: 28.7403 - mae: 4.0663 - val_loss: 46.2969 - val_mse: 46.2969 - val_mae: 5.2169\n",
            "Epoch 192/200\n",
            "21/21 [==============================] - 0s 4ms/step - loss: 29.1548 - mse: 29.1548 - mae: 4.0889 - val_loss: 45.2893 - val_mse: 45.2893 - val_mae: 5.1446\n",
            "Epoch 193/200\n",
            "21/21 [==============================] - 0s 5ms/step - loss: 28.5127 - mse: 28.5127 - mae: 4.0353 - val_loss: 51.1580 - val_mse: 51.1580 - val_mae: 5.5397\n",
            "Epoch 194/200\n",
            "21/21 [==============================] - 0s 5ms/step - loss: 30.1449 - mse: 30.1449 - mae: 4.1542 - val_loss: 45.8149 - val_mse: 45.8149 - val_mae: 5.2017\n",
            "Epoch 195/200\n",
            "21/21 [==============================] - 0s 5ms/step - loss: 30.4638 - mse: 30.4638 - mae: 4.1948 - val_loss: 51.8878 - val_mse: 51.8878 - val_mae: 5.5601\n",
            "Epoch 196/200\n",
            "21/21 [==============================] - 0s 5ms/step - loss: 29.9439 - mse: 29.9439 - mae: 4.1405 - val_loss: 45.0046 - val_mse: 45.0046 - val_mae: 5.1439\n",
            "Epoch 197/200\n",
            "21/21 [==============================] - 0s 4ms/step - loss: 28.3064 - mse: 28.3064 - mae: 4.0202 - val_loss: 45.7272 - val_mse: 45.7272 - val_mae: 5.1862\n",
            "Epoch 198/200\n",
            "21/21 [==============================] - 0s 5ms/step - loss: 28.9848 - mse: 28.9848 - mae: 4.1181 - val_loss: 44.9763 - val_mse: 44.9763 - val_mae: 5.1250\n",
            "Epoch 199/200\n",
            "21/21 [==============================] - 0s 4ms/step - loss: 29.9472 - mse: 29.9472 - mae: 4.1266 - val_loss: 47.7152 - val_mse: 47.7152 - val_mae: 5.2962\n",
            "Epoch 200/200\n",
            "21/21 [==============================] - 0s 6ms/step - loss: 30.1734 - mse: 30.1734 - mae: 4.1710 - val_loss: 46.5689 - val_mse: 46.5689 - val_mae: 5.2608\n"
          ]
        }
      ]
    },
    {
      "cell_type": "code",
      "source": [
        "model2.evaluate(X_test2,y_test2)"
      ],
      "metadata": {
        "colab": {
          "base_uri": "https://localhost:8080/"
        },
        "id": "cDVG1Sv_RYG6",
        "outputId": "ef99af69-6219-4907-f884-54c132879bfc"
      },
      "execution_count": null,
      "outputs": [
        {
          "output_type": "stream",
          "name": "stdout",
          "text": [
            "7/7 [==============================] - 0s 3ms/step - loss: 34.1164 - mse: 34.1164 - mae: 4.2884\n"
          ]
        },
        {
          "output_type": "execute_result",
          "data": {
            "text/plain": [
              "[34.11643981933594, 34.11643981933594, 4.2884135246276855]"
            ]
          },
          "metadata": {},
          "execution_count": 127
        }
      ]
    },
    {
      "cell_type": "code",
      "source": [
        "import matplotlib.pyplot as plt\n",
        "\n",
        "#plot the loss and validation loss of the dataset\n",
        "plt.plot(history.history['mae'], label='mae')\n",
        "plt.plot(history.history['val_mae'], label='val_mae')\n",
        "\n",
        "plt.legend()"
      ],
      "metadata": {
        "colab": {
          "base_uri": "https://localhost:8080/",
          "height": 282
        },
        "id": "Ks8SVSmHSish",
        "outputId": "55b294fe-d2e7-465c-8d02-a1e13b3f0886"
      },
      "execution_count": null,
      "outputs": [
        {
          "output_type": "execute_result",
          "data": {
            "text/plain": [
              "<matplotlib.legend.Legend at 0x7f8d0f05a7c0>"
            ]
          },
          "metadata": {},
          "execution_count": 128
        },
        {
          "output_type": "display_data",
          "data": {
            "text/plain": [
              "<Figure size 432x288 with 1 Axes>"
            ],
            "image/png": "[encoded data removed]"
          },
          "metadata": {
            "needs_background": "light"
          }
        }
      ]
    },
    {
      "cell_type": "code",
      "source": [
        "from sklearn.metrics import r2_score\n",
        "y_train_pred = model2.predict(X_train2).flatten()\n",
        "r2_score(y_train2,y_train_pred)"
      ],
      "metadata": {
        "colab": {
          "base_uri": "https://localhost:8080/"
        },
        "id": "HBt9Uzpub_rw",
        "outputId": "5d0a40ac-4a8a-48dd-ed45-845d5a826603"
      },
      "execution_count": null,
      "outputs": [
        {
          "output_type": "stream",
          "name": "stdout",
          "text": [
            "26/26 [==============================] - 0s 4ms/step\n"
          ]
        },
        {
          "output_type": "execute_result",
          "data": {
            "text/plain": [
              "0.8807853775898076"
            ]
          },
          "metadata": {},
          "execution_count": 131
        }
      ]
    },
    {
      "cell_type": "code",
      "source": [
        "from sklearn.metrics import r2_score\n",
        "y_test_pred = model2.predict(X_test2).flatten()\n",
        "r2_score(y_test2,y_test_pred)"
      ],
      "metadata": {
        "colab": {
          "base_uri": "https://localhost:8080/"
        },
        "id": "z5sGjiPVcRsz",
        "outputId": "5ccf35a1-c3e4-4f2c-a388-f22b08f1fb83"
      },
      "execution_count": null,
      "outputs": [
        {
          "output_type": "stream",
          "name": "stdout",
          "text": [
            "7/7 [==============================] - 0s 3ms/step\n"
          ]
        },
        {
          "output_type": "execute_result",
          "data": {
            "text/plain": [
              "0.893005076861722"
            ]
          },
          "metadata": {},
          "execution_count": 132
        }
      ]
    },
    {
      "cell_type": "code",
      "source": [
        "a = plt.axes(aspect='equal')\n",
        "plt.scatter(y_test2, y_test_pred)\n",
        "plt.xlabel('True values')\n",
        "plt.ylabel('Predicted values')\n",
        "plt.xlim([0, 100])\n",
        "plt.ylim([0, 100])\n",
        "plt.plot([0, 100], [0, 100])\n",
        "plt.plot()"
      ],
      "metadata": {
        "colab": {
          "base_uri": "https://localhost:8080/",
          "height": 300
        },
        "id": "uJa-FMGkRrix",
        "outputId": "dc3c8215-fc0b-486f-d641-ef1ab154abd8"
      },
      "execution_count": null,
      "outputs": [
        {
          "output_type": "execute_result",
          "data": {
            "text/plain": [
              "[]"
            ]
          },
          "metadata": {},
          "execution_count": 134
        },
        {
          "output_type": "display_data",
          "data": {
            "text/plain": [
              "<Figure size 432x288 with 1 Axes>"
            ],
            "image/png": "[encoded data removed]"
          },
          "metadata": {
            "needs_background": "light"
          }
        }
      ]
    }
  ],
  "metadata": {
    "colab": {
      "provenance": [],
      "collapsed_sections": [
        "MxiFisrZvhpD",
        "tMwyu5g0vojU",
        "ipSaapAZikSz"
      ]
    },
    "gpuClass": "standard",
    "kernelspec": {
      "display_name": "Python 3",
      "name": "python3"
    },
    "language_info": {
      "name": "python"
    }
  },
  "nbformat": 4,
  "nbformat_minor": 0
}