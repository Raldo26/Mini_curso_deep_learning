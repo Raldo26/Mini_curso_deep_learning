{
  "nbformat": 4,
  "nbformat_minor": 0,
  "metadata": {
    "colab": {
      "provenance": []
    },
    "kernelspec": {
      "name": "python3",
      "display_name": "Python 3"
    },
    "accelerator": "GPU",
    "gpuClass": "standard"
  },
  "cells": [
    {
      "cell_type": "markdown",
      "metadata": {
        "id": "c0JBfeQuW1N6"
      },
      "source": [
        " **Clasificación de Imagenes en Keras con una CNN**\n"
      ]
    },
    {
      "cell_type": "code",
      "metadata": {
        "id": "ovn5sqnuTm_Y"
      },
      "source": [
        "import numpy as np                  \n",
        "import matplotlib.pyplot as plt      \n",
        "import random                     \n",
        "from keras.datasets import mnist\n",
        "from keras.utils import np_utils                         \n",
        "from tensorflow import keras\n",
        "import tensorflow.keras.layers as LK\n",
        "import tensorflow.keras.models as MK"
      ],
      "execution_count": null,
      "outputs": []
    },
    {
      "cell_type": "markdown",
      "metadata": {
        "id": "vdjr6eDXXiTL"
      },
      "source": [
        "#Cargar datos de entrenamiento y visualización"
      ]
    },
    {
      "cell_type": "code",
      "metadata": {
        "id": "WZmkry_mXMxK",
        "colab": {
          "base_uri": "https://localhost:8080/"
        },
        "outputId": "883d95fe-39eb-43ea-c368-1208b0ade2e0"
      },
      "source": [
        "(X_train, y_train), (X_test, y_test) = mnist.load_data()\n",
        "\n",
        "print(\"X_train shape\", X_train.shape)\n",
        "print(\"y_train shape\", y_train.shape)\n",
        "print(\"X_test shape\", X_test.shape)\n",
        "print(\"y_test shape\", y_test.shape)"
      ],
      "execution_count": null,
      "outputs": [
        {
          "output_type": "stream",
          "name": "stdout",
          "text": [
            "X_train shape (60000, 28, 28)\n",
            "y_train shape (60000,)\n",
            "X_test shape (10000, 28, 28)\n",
            "y_test shape (10000,)\n"
          ]
        }
      ]
    },
    {
      "cell_type": "markdown",
      "metadata": {
        "id": "Srty8BDtXuz5"
      },
      "source": [
        "Visualizar las imagenes"
      ]
    },
    {
      "cell_type": "code",
      "metadata": {
        "id": "ufiHDva2XxTG",
        "colab": {
          "base_uri": "https://localhost:8080/"
        },
        "outputId": "50f34881-d3d6-4eaf-adaf-e628c4665982"
      },
      "source": [
        "plt.rcParams['figure.figsize'] = (9,9) # Make the figures a bit bigger\n",
        "\n",
        "for i in range(9):\n",
        "    plt.subplot(3,3,i+1)\n",
        "    num = random.randint(0, len(X_train))\n",
        "    plt.imshow(X_train[num], cmap='gray', interpolation='none')\n",
        "    plt.title(\"Class {}\".format(y_train[num]))\n",
        "    \n",
        "plt.tight_layout()"
      ],
      "execution_count": null,
      "outputs": [
        {
          "output_type": "display_data",
          "data": {
            "text/plain": [
              "<Figure size 648x648 with 9 Axes>"
            ],
            "image/png": "[encoded data removed]"
          },
          "metadata": {
            "needs_background": "light"
          }
        }
      ]
    },
    {
      "cell_type": "markdown",
      "metadata": {
        "id": "JZuixd35X0Z0"
      },
      "source": [
        "Imagenes como matriz"
      ]
    },
    {
      "cell_type": "code",
      "metadata": {
        "id": "AJsXoj1AX693",
        "colab": {
          "base_uri": "https://localhost:8080/"
        },
        "outputId": "e162759c-67c7-4ef5-c22d-e2258c43df62"
      },
      "source": [
        "# just a little function for pretty printing a matrix\n",
        "def matprint(mat, fmt=\"g\"):\n",
        "    col_maxes = [max([len((\"{:\"+fmt+\"}\").format(x)) for x in col]) for col in mat.T]\n",
        "    for x in mat:\n",
        "        for i, y in enumerate(x):\n",
        "            print((\"{:\"+str(col_maxes[i])+fmt+\"}\").format(y), end=\"  \")\n",
        "        print(\"\")\n",
        "\n",
        "# now print!        \n",
        "matprint(X_train[num])"
      ],
      "execution_count": null,
      "outputs": [
        {
          "output_type": "stream",
          "name": "stdout",
          "text": [
            "0  0  0  0  0  0    0    0    0    0    0    0    0    0    0    0    0    0    0    0    0   0  0  0  0  0  0  0  \n",
            "0  0  0  0  0  0    0    0    0    0    0    0    0    0    0    0    0    0    0    0    0   0  0  0  0  0  0  0  \n",
            "0  0  0  0  0  0    0    0    0    0    0    0    0    0    0    0    0    0    0    0    0   0  0  0  0  0  0  0  \n",
            "0  0  0  0  0  0    0    0    0    0    0    0    0    0    0    0    0    0    0    0    0   0  0  0  0  0  0  0  \n",
            "0  0  0  0  0  0   14  197  254  254  254  187  144   96   34   25    0    0    0    0    0   0  0  0  0  0  0  0  \n",
            "0  0  0  0  0  0  100  253  253  253  253  253  253  253  254  233  177   71   23    0    0   0  0  0  0  0  0  0  \n",
            "0  0  0  0  0  0   17  149  154  154  149   44   78  154  211  253  253  253  201   22    0   0  0  0  0  0  0  0  \n",
            "0  0  0  0  0  0    0    0    0    0    0    0    0    0    6   40  121  248  253  113    0   0  0  0  0  0  0  0  \n",
            "0  0  0  0  0  0    0    0    0    0    0    0    0    0    0   15  100  250  253  140    0   0  0  0  0  0  0  0  \n",
            "0  0  0  0  0  0    0    0    0    0    0    0    0    0   51  180  253  253  234   36    0   0  0  0  0  0  0  0  \n",
            "0  0  0  0  0  0    0    0    0    0    0    2   45  122  245  253  253  233   55    0    0   0  0  0  0  0  0  0  \n",
            "0  0  0  0  0  0    0    0    0   16   98  172  253  253  254  222  118    4    0    0    0   0  0  0  0  0  0  0  \n",
            "0  0  0  0  0  0    0    0    0  171  253  253  253  253  230   20    0    0    0    0    0   0  0  0  0  0  0  0  \n",
            "0  0  0  0  0  0    0    0    0  199  253  253  253  253  250  163    0    0    0    0    0   0  0  0  0  0  0  0  \n",
            "0  0  0  0  0  0    0    0    0    0  102  111  144  221  241  254  254   91   12    0    0   0  0  0  0  0  0  0  \n",
            "0  0  0  0  0  0    0    0    0    0    0    0    0    0  116  253  253  253  179   15    0   0  0  0  0  0  0  0  \n",
            "0  0  0  0  0  0    0    0    0    0   48  100  182  167   98   44   87  249  253  146    0   0  0  0  0  0  0  0  \n",
            "0  0  0  0  0  0    0    0    0    8  230  253  237   34    5    0    0   20  207  250   89   0  0  0  0  0  0  0  \n",
            "0  0  0  0  0  0    0    0    0  161  253  200   23    0    0    0    0    0  142  253  242   0  0  0  0  0  0  0  \n",
            "0  0  0  0  0  0    0    0    0  199  253  201   62    0    0    0    0    0   12  125  251  78  0  0  0  0  0  0  \n",
            "0  0  0  0  0  0    0    0    0   56  238  253  247  184   60    9    0   11   84  168  253  99  0  0  0  0  0  0  \n",
            "0  0  0  0  0  0    0    0    0    0  101  236  253  253  255  228  155  250  253  253  253  99  0  0  0  0  0  0  \n",
            "0  0  0  0  0  0    0    0    0    0    0   60  176  244  254  253  253  253  253  253  211  26  0  0  0  0  0  0  \n",
            "0  0  0  0  0  0    0    0    0    0    0    0    0   77  206  253  253  244  143   56   17   0  0  0  0  0  0  0  \n",
            "0  0  0  0  0  0    0    0    0    0    0    0    0    0    0    0    0    0    0    0    0   0  0  0  0  0  0  0  \n",
            "0  0  0  0  0  0    0    0    0    0    0    0    0    0    0    0    0    0    0    0    0   0  0  0  0  0  0  0  \n",
            "0  0  0  0  0  0    0    0    0    0    0    0    0    0    0    0    0    0    0    0    0   0  0  0  0  0  0  0  \n",
            "0  0  0  0  0  0    0    0    0    0    0    0    0    0    0    0    0    0    0    0    0   0  0  0  0  0  0  0  \n"
          ]
        }
      ]
    },
    {
      "cell_type": "code",
      "source": [
        "print(type(X_train))\n",
        "print(X_train[0])"
      ],
      "metadata": {
        "colab": {
          "base_uri": "https://localhost:8080/"
        },
        "id": "JDZ3SLabpUKR",
        "outputId": "7f71f6aa-4939-4087-b8d8-569ac933d4cc"
      },
      "execution_count": null,
      "outputs": [
        {
          "output_type": "stream",
          "name": "stdout",
          "text": [
            "<class 'numpy.ndarray'>\n",
            "[[  0   0   0   0   0   0   0   0   0   0   0   0   0   0   0   0   0   0\n",
            "    0   0   0   0   0   0   0   0   0   0]\n",
            " [  0   0   0   0   0   0   0   0   0   0   0   0   0   0   0   0   0   0\n",
            "    0   0   0   0   0   0   0   0   0   0]\n",
            " [  0   0   0   0   0   0   0   0   0   0   0   0   0   0   0   0   0   0\n",
            "    0   0   0   0   0   0   0   0   0   0]\n",
            " [  0   0   0   0   0   0   0   0   0   0   0   0   0   0   0   0   0   0\n",
            "    0   0   0   0   0   0   0   0   0   0]\n",
            " [  0   0   0   0   0   0   0   0   0   0   0   0   0   0   0   0   0   0\n",
            "    0   0   0   0   0   0   0   0   0   0]\n",
            " [  0   0   0   0   0   0   0   0   0   0   0   0   3  18  18  18 126 136\n",
            "  175  26 166 255 247 127   0   0   0   0]\n",
            " [  0   0   0   0   0   0   0   0  30  36  94 154 170 253 253 253 253 253\n",
            "  225 172 253 242 195  64   0   0   0   0]\n",
            " [  0   0   0   0   0   0   0  49 238 253 253 253 253 253 253 253 253 251\n",
            "   93  82  82  56  39   0   0   0   0   0]\n",
            " [  0   0   0   0   0   0   0  18 219 253 253 253 253 253 198 182 247 241\n",
            "    0   0   0   0   0   0   0   0   0   0]\n",
            " [  0   0   0   0   0   0   0   0  80 156 107 253 253 205  11   0  43 154\n",
            "    0   0   0   0   0   0   0   0   0   0]\n",
            " [  0   0   0   0   0   0   0   0   0  14   1 154 253  90   0   0   0   0\n",
            "    0   0   0   0   0   0   0   0   0   0]\n",
            " [  0   0   0   0   0   0   0   0   0   0   0 139 253 190   2   0   0   0\n",
            "    0   0   0   0   0   0   0   0   0   0]\n",
            " [  0   0   0   0   0   0   0   0   0   0   0  11 190 253  70   0   0   0\n",
            "    0   0   0   0   0   0   0   0   0   0]\n",
            " [  0   0   0   0   0   0   0   0   0   0   0   0  35 241 225 160 108   1\n",
            "    0   0   0   0   0   0   0   0   0   0]\n",
            " [  0   0   0   0   0   0   0   0   0   0   0   0   0  81 240 253 253 119\n",
            "   25   0   0   0   0   0   0   0   0   0]\n",
            " [  0   0   0   0   0   0   0   0   0   0   0   0   0   0  45 186 253 253\n",
            "  150  27   0   0   0   0   0   0   0   0]\n",
            " [  0   0   0   0   0   0   0   0   0   0   0   0   0   0   0  16  93 252\n",
            "  253 187   0   0   0   0   0   0   0   0]\n",
            " [  0   0   0   0   0   0   0   0   0   0   0   0   0   0   0   0   0 249\n",
            "  253 249  64   0   0   0   0   0   0   0]\n",
            " [  0   0   0   0   0   0   0   0   0   0   0   0   0   0  46 130 183 253\n",
            "  253 207   2   0   0   0   0   0   0   0]\n",
            " [  0   0   0   0   0   0   0   0   0   0   0   0  39 148 229 253 253 253\n",
            "  250 182   0   0   0   0   0   0   0   0]\n",
            " [  0   0   0   0   0   0   0   0   0   0  24 114 221 253 253 253 253 201\n",
            "   78   0   0   0   0   0   0   0   0   0]\n",
            " [  0   0   0   0   0   0   0   0  23  66 213 253 253 253 253 198  81   2\n",
            "    0   0   0   0   0   0   0   0   0   0]\n",
            " [  0   0   0   0   0   0  18 171 219 253 253 253 253 195  80   9   0   0\n",
            "    0   0   0   0   0   0   0   0   0   0]\n",
            " [  0   0   0   0  55 172 226 253 253 253 253 244 133  11   0   0   0   0\n",
            "    0   0   0   0   0   0   0   0   0   0]\n",
            " [  0   0   0   0 136 253 253 253 212 135 132  16   0   0   0   0   0   0\n",
            "    0   0   0   0   0   0   0   0   0   0]\n",
            " [  0   0   0   0   0   0   0   0   0   0   0   0   0   0   0   0   0   0\n",
            "    0   0   0   0   0   0   0   0   0   0]\n",
            " [  0   0   0   0   0   0   0   0   0   0   0   0   0   0   0   0   0   0\n",
            "    0   0   0   0   0   0   0   0   0   0]\n",
            " [  0   0   0   0   0   0   0   0   0   0   0   0   0   0   0   0   0   0\n",
            "    0   0   0   0   0   0   0   0   0   0]]\n"
          ]
        }
      ]
    },
    {
      "cell_type": "code",
      "metadata": {
        "id": "R73nHiPfYHTS",
        "colab": {
          "base_uri": "https://localhost:8080/"
        },
        "outputId": "b9afd2f0-19cd-4c4f-fbf3-4c4891d844a4"
      },
      "source": [
        "X_train = X_train.astype('float32')   \n",
        "X_test = X_test.astype('float32')\n",
        "\n",
        "#Normalización\n",
        "X_train /= 255                       \n",
        "X_test /= 255\n",
        "\n",
        "print(\"Dimensiones Matrices de Entrenamiento\", X_train.shape)\n",
        "print(\"Dimensiones Matrices de Validación\", X_test.shape)"
      ],
      "execution_count": null,
      "outputs": [
        {
          "output_type": "stream",
          "name": "stdout",
          "text": [
            "Dimensiones Matrices de Entrenamiento (60000, 28, 28)\n",
            "Dimensiones Matrices de Validación (10000, 28, 28)\n"
          ]
        }
      ]
    },
    {
      "cell_type": "code",
      "source": [
        "print(X_train[0])\n",
        "print(y_train[0])"
      ],
      "metadata": {
        "colab": {
          "base_uri": "https://localhost:8080/"
        },
        "id": "kr3sHAgL87fm",
        "outputId": "2bed0113-1fde-4db9-ed09-949cad90fc88"
      },
      "execution_count": null,
      "outputs": [
        {
          "output_type": "stream",
          "name": "stdout",
          "text": [
            "[[0.         0.         0.         0.         0.         0.\n",
            "  0.         0.         0.         0.         0.         0.\n",
            "  0.         0.         0.         0.         0.         0.\n",
            "  0.         0.         0.         0.         0.         0.\n",
            "  0.         0.         0.         0.        ]\n",
            " [0.         0.         0.         0.         0.         0.\n",
            "  0.         0.         0.         0.         0.         0.\n",
            "  0.         0.         0.         0.         0.         0.\n",
            "  0.         0.         0.         0.         0.         0.\n",
            "  0.         0.         0.         0.        ]\n",
            " [0.         0.         0.         0.         0.         0.\n",
            "  0.         0.         0.         0.         0.         0.\n",
            "  0.         0.         0.         0.         0.         0.\n",
            "  0.         0.         0.         0.         0.         0.\n",
            "  0.         0.         0.         0.        ]\n",
            " [0.         0.         0.         0.         0.         0.\n",
            "  0.         0.         0.         0.         0.         0.\n",
            "  0.         0.         0.         0.         0.         0.\n",
            "  0.         0.         0.         0.         0.         0.\n",
            "  0.         0.         0.         0.        ]\n",
            " [0.         0.         0.         0.         0.         0.\n",
            "  0.         0.         0.         0.         0.         0.\n",
            "  0.         0.         0.         0.         0.         0.\n",
            "  0.         0.         0.         0.         0.         0.\n",
            "  0.         0.         0.         0.        ]\n",
            " [0.         0.         0.         0.         0.         0.\n",
            "  0.         0.         0.         0.         0.         0.\n",
            "  0.01176471 0.07058824 0.07058824 0.07058824 0.49411765 0.53333336\n",
            "  0.6862745  0.10196079 0.6509804  1.         0.96862745 0.49803922\n",
            "  0.         0.         0.         0.        ]\n",
            " [0.         0.         0.         0.         0.         0.\n",
            "  0.         0.         0.11764706 0.14117648 0.36862746 0.6039216\n",
            "  0.6666667  0.99215686 0.99215686 0.99215686 0.99215686 0.99215686\n",
            "  0.88235295 0.6745098  0.99215686 0.9490196  0.7647059  0.2509804\n",
            "  0.         0.         0.         0.        ]\n",
            " [0.         0.         0.         0.         0.         0.\n",
            "  0.         0.19215687 0.93333334 0.99215686 0.99215686 0.99215686\n",
            "  0.99215686 0.99215686 0.99215686 0.99215686 0.99215686 0.9843137\n",
            "  0.3647059  0.32156864 0.32156864 0.21960784 0.15294118 0.\n",
            "  0.         0.         0.         0.        ]\n",
            " [0.         0.         0.         0.         0.         0.\n",
            "  0.         0.07058824 0.85882354 0.99215686 0.99215686 0.99215686\n",
            "  0.99215686 0.99215686 0.7764706  0.7137255  0.96862745 0.94509804\n",
            "  0.         0.         0.         0.         0.         0.\n",
            "  0.         0.         0.         0.        ]\n",
            " [0.         0.         0.         0.         0.         0.\n",
            "  0.         0.         0.3137255  0.6117647  0.41960785 0.99215686\n",
            "  0.99215686 0.8039216  0.04313726 0.         0.16862746 0.6039216\n",
            "  0.         0.         0.         0.         0.         0.\n",
            "  0.         0.         0.         0.        ]\n",
            " [0.         0.         0.         0.         0.         0.\n",
            "  0.         0.         0.         0.05490196 0.00392157 0.6039216\n",
            "  0.99215686 0.3529412  0.         0.         0.         0.\n",
            "  0.         0.         0.         0.         0.         0.\n",
            "  0.         0.         0.         0.        ]\n",
            " [0.         0.         0.         0.         0.         0.\n",
            "  0.         0.         0.         0.         0.         0.54509807\n",
            "  0.99215686 0.74509805 0.00784314 0.         0.         0.\n",
            "  0.         0.         0.         0.         0.         0.\n",
            "  0.         0.         0.         0.        ]\n",
            " [0.         0.         0.         0.         0.         0.\n",
            "  0.         0.         0.         0.         0.         0.04313726\n",
            "  0.74509805 0.99215686 0.27450982 0.         0.         0.\n",
            "  0.         0.         0.         0.         0.         0.\n",
            "  0.         0.         0.         0.        ]\n",
            " [0.         0.         0.         0.         0.         0.\n",
            "  0.         0.         0.         0.         0.         0.\n",
            "  0.13725491 0.94509804 0.88235295 0.627451   0.42352942 0.00392157\n",
            "  0.         0.         0.         0.         0.         0.\n",
            "  0.         0.         0.         0.        ]\n",
            " [0.         0.         0.         0.         0.         0.\n",
            "  0.         0.         0.         0.         0.         0.\n",
            "  0.         0.31764707 0.9411765  0.99215686 0.99215686 0.46666667\n",
            "  0.09803922 0.         0.         0.         0.         0.\n",
            "  0.         0.         0.         0.        ]\n",
            " [0.         0.         0.         0.         0.         0.\n",
            "  0.         0.         0.         0.         0.         0.\n",
            "  0.         0.         0.1764706  0.7294118  0.99215686 0.99215686\n",
            "  0.5882353  0.10588235 0.         0.         0.         0.\n",
            "  0.         0.         0.         0.        ]\n",
            " [0.         0.         0.         0.         0.         0.\n",
            "  0.         0.         0.         0.         0.         0.\n",
            "  0.         0.         0.         0.0627451  0.3647059  0.9882353\n",
            "  0.99215686 0.73333335 0.         0.         0.         0.\n",
            "  0.         0.         0.         0.        ]\n",
            " [0.         0.         0.         0.         0.         0.\n",
            "  0.         0.         0.         0.         0.         0.\n",
            "  0.         0.         0.         0.         0.         0.9764706\n",
            "  0.99215686 0.9764706  0.2509804  0.         0.         0.\n",
            "  0.         0.         0.         0.        ]\n",
            " [0.         0.         0.         0.         0.         0.\n",
            "  0.         0.         0.         0.         0.         0.\n",
            "  0.         0.         0.18039216 0.50980395 0.7176471  0.99215686\n",
            "  0.99215686 0.8117647  0.00784314 0.         0.         0.\n",
            "  0.         0.         0.         0.        ]\n",
            " [0.         0.         0.         0.         0.         0.\n",
            "  0.         0.         0.         0.         0.         0.\n",
            "  0.15294118 0.5803922  0.8980392  0.99215686 0.99215686 0.99215686\n",
            "  0.98039216 0.7137255  0.         0.         0.         0.\n",
            "  0.         0.         0.         0.        ]\n",
            " [0.         0.         0.         0.         0.         0.\n",
            "  0.         0.         0.         0.         0.09411765 0.44705883\n",
            "  0.8666667  0.99215686 0.99215686 0.99215686 0.99215686 0.7882353\n",
            "  0.30588236 0.         0.         0.         0.         0.\n",
            "  0.         0.         0.         0.        ]\n",
            " [0.         0.         0.         0.         0.         0.\n",
            "  0.         0.         0.09019608 0.25882354 0.8352941  0.99215686\n",
            "  0.99215686 0.99215686 0.99215686 0.7764706  0.31764707 0.00784314\n",
            "  0.         0.         0.         0.         0.         0.\n",
            "  0.         0.         0.         0.        ]\n",
            " [0.         0.         0.         0.         0.         0.\n",
            "  0.07058824 0.67058825 0.85882354 0.99215686 0.99215686 0.99215686\n",
            "  0.99215686 0.7647059  0.3137255  0.03529412 0.         0.\n",
            "  0.         0.         0.         0.         0.         0.\n",
            "  0.         0.         0.         0.        ]\n",
            " [0.         0.         0.         0.         0.21568628 0.6745098\n",
            "  0.8862745  0.99215686 0.99215686 0.99215686 0.99215686 0.95686275\n",
            "  0.52156866 0.04313726 0.         0.         0.         0.\n",
            "  0.         0.         0.         0.         0.         0.\n",
            "  0.         0.         0.         0.        ]\n",
            " [0.         0.         0.         0.         0.53333336 0.99215686\n",
            "  0.99215686 0.99215686 0.83137256 0.5294118  0.5176471  0.0627451\n",
            "  0.         0.         0.         0.         0.         0.\n",
            "  0.         0.         0.         0.         0.         0.\n",
            "  0.         0.         0.         0.        ]\n",
            " [0.         0.         0.         0.         0.         0.\n",
            "  0.         0.         0.         0.         0.         0.\n",
            "  0.         0.         0.         0.         0.         0.\n",
            "  0.         0.         0.         0.         0.         0.\n",
            "  0.         0.         0.         0.        ]\n",
            " [0.         0.         0.         0.         0.         0.\n",
            "  0.         0.         0.         0.         0.         0.\n",
            "  0.         0.         0.         0.         0.         0.\n",
            "  0.         0.         0.         0.         0.         0.\n",
            "  0.         0.         0.         0.        ]\n",
            " [0.         0.         0.         0.         0.         0.\n",
            "  0.         0.         0.         0.         0.         0.\n",
            "  0.         0.         0.         0.         0.         0.\n",
            "  0.         0.         0.         0.         0.         0.\n",
            "  0.         0.         0.         0.        ]]\n",
            "5\n"
          ]
        }
      ]
    },
    {
      "cell_type": "markdown",
      "metadata": {
        "id": "usGTFwd6Y0ZB"
      },
      "source": [
        "Para la clasificacion es necesario el one-hot format"
      ]
    },
    {
      "cell_type": "code",
      "metadata": {
        "id": "I-i3NDPOYdza"
      },
      "source": [
        "nb_classes = 10 # number of unique digits\n",
        "\n",
        "Y_train = np_utils.to_categorical(y_train, nb_classes)\n",
        "Y_test = np_utils.to_categorical(y_test, nb_classes)"
      ],
      "execution_count": null,
      "outputs": []
    },
    {
      "cell_type": "code",
      "source": [
        "print(y_train[0])\n",
        "print(Y_train[0])"
      ],
      "metadata": {
        "colab": {
          "base_uri": "https://localhost:8080/"
        },
        "id": "aJtuRz6M9q9f",
        "outputId": "976c4e71-1f6a-4ce6-e8af-dd51a67d2c13"
      },
      "execution_count": null,
      "outputs": [
        {
          "output_type": "stream",
          "name": "stdout",
          "text": [
            "5\n",
            "[0. 0. 0. 0. 0. 1. 0. 0. 0. 0.]\n"
          ]
        }
      ]
    },
    {
      "cell_type": "markdown",
      "metadata": {
        "id": "Z_xlQ4ZEZP_7"
      },
      "source": [
        "#Construccion de la Red"
      ]
    },
    {
      "cell_type": "code",
      "metadata": {
        "id": "3BCcaeSaZyLT",
        "colab": {
          "base_uri": "https://localhost:8080/"
        },
        "outputId": "5471d0ba-43e8-44f4-e259-85ebcde959b7"
      },
      "source": [
        "# modelo = keras.models.Sequential()\n",
        "# modelo.add(keras.layers.Conv2D(16, (3, 3),padding='same' ,input_shape=(28, 28, 1),use_bias=False))\n",
        "# modelo.add(keras.layers.BatchNormalization())\n",
        "# modelo.add(keras.layers.Activation(\"relu\"))\n",
        "# modelo.add(keras.layers.MaxPooling2D((2, 2)))\n",
        "# modelo.add(keras.layers.Conv2D(32, (3, 3), padding='same',use_bias=False))\n",
        "# modelo.add(keras.layers.BatchNormalization())\n",
        "# modelo.add(keras.layers.Activation(\"relu\"))\n",
        "# modelo.add(keras.layers.MaxPooling2D((2, 2)))\n",
        "# modelo.add(keras.layers.Conv2D(64, (3, 3),padding='same',use_bias=False))\n",
        "# modelo.add(keras.layers.BatchNormalization())\n",
        "# modelo.add(keras.layers.Activation(\"relu\"))\n",
        "# modelo.add(keras.layers.Flatten())\n",
        "# modelo.add(keras.layers.Dense(10, activation='softmax'))\n",
        "\n",
        "# modelo.summary()"
      ],
      "execution_count": null,
      "outputs": [
        {
          "output_type": "stream",
          "name": "stdout",
          "text": [
            "Model: \"sequential\"\n",
            "_________________________________________________________________\n",
            " Layer (type)                Output Shape              Param #   \n",
            "=================================================================\n",
            " conv2d (Conv2D)             (None, 28, 28, 16)        144       \n",
            "                                                                 \n",
            " batch_normalization (BatchN  (None, 28, 28, 16)       64        \n",
            " ormalization)                                                   \n",
            "                                                                 \n",
            " activation (Activation)     (None, 28, 28, 16)        0         \n",
            "                                                                 \n",
            " max_pooling2d (MaxPooling2D  (None, 14, 14, 16)       0         \n",
            " )                                                               \n",
            "                                                                 \n",
            " conv2d_1 (Conv2D)           (None, 14, 14, 32)        4608      \n",
            "                                                                 \n",
            " batch_normalization_1 (Batc  (None, 14, 14, 32)       128       \n",
            " hNormalization)                                                 \n",
            "                                                                 \n",
            " activation_1 (Activation)   (None, 14, 14, 32)        0         \n",
            "                                                                 \n",
            " max_pooling2d_1 (MaxPooling  (None, 7, 7, 32)         0         \n",
            " 2D)                                                             \n",
            "                                                                 \n",
            " conv2d_2 (Conv2D)           (None, 7, 7, 64)          18432     \n",
            "                                                                 \n",
            " batch_normalization_2 (Batc  (None, 7, 7, 64)         256       \n",
            " hNormalization)                                                 \n",
            "                                                                 \n",
            " activation_2 (Activation)   (None, 7, 7, 64)          0         \n",
            "                                                                 \n",
            " flatten (Flatten)           (None, 3136)              0         \n",
            "                                                                 \n",
            " dense (Dense)               (None, 10)                31370     \n",
            "                                                                 \n",
            "=================================================================\n",
            "Total params: 55,002\n",
            "Trainable params: 54,778\n",
            "Non-trainable params: 224\n",
            "_________________________________________________________________\n"
          ]
        }
      ]
    },
    {
      "cell_type": "code",
      "source": [
        "def crear_modelo():\n",
        "  modelo= MK.Sequential([\n",
        "      LK.Conv2D(16,(3,3), padding='same', activation= 'relu', input_shape=(28,28,1)),\n",
        "      LK.BatchNormalization(),\n",
        "      LK.MaxPooling2D(2,2),\n",
        "      LK.Conv2D(32,(3,3), padding='same', activation= 'relu'),\n",
        "      LK.BatchNormalization(),\n",
        "      LK.MaxPooling2D(2,2),\n",
        "      LK.Conv2D(64,(3,3), padding='same', activation= 'relu'),\n",
        "      LK.BatchNormalization(),\n",
        "      LK.Flatten(),\n",
        "      LK.Dense(10, activation= 'softmax')\n",
        "  ])\n",
        "  return modelo"
      ],
      "metadata": {
        "id": "_41jbv-trXRz"
      },
      "execution_count": null,
      "outputs": []
    },
    {
      "cell_type": "code",
      "source": [
        "Modelo1= crear_modelo()\n",
        "Modelo1.summary()"
      ],
      "metadata": {
        "colab": {
          "base_uri": "https://localhost:8080/"
        },
        "id": "IlIRfHB-tTDU",
        "outputId": "058f0ff8-97f0-4ea8-d708-3f0ca4592e90"
      },
      "execution_count": null,
      "outputs": [
        {
          "output_type": "stream",
          "name": "stdout",
          "text": [
            "Model: \"sequential_2\"\n",
            "_________________________________________________________________\n",
            " Layer (type)                Output Shape              Param #   \n",
            "=================================================================\n",
            " conv2d_6 (Conv2D)           (None, 28, 28, 16)        160       \n",
            "                                                                 \n",
            " batch_normalization_6 (Batc  (None, 28, 28, 16)       64        \n",
            " hNormalization)                                                 \n",
            "                                                                 \n",
            " max_pooling2d_4 (MaxPooling  (None, 14, 14, 16)       0         \n",
            " 2D)                                                             \n",
            "                                                                 \n",
            " conv2d_7 (Conv2D)           (None, 14, 14, 32)        4640      \n",
            "                                                                 \n",
            " batch_normalization_7 (Batc  (None, 14, 14, 32)       128       \n",
            " hNormalization)                                                 \n",
            "                                                                 \n",
            " max_pooling2d_5 (MaxPooling  (None, 7, 7, 32)         0         \n",
            " 2D)                                                             \n",
            "                                                                 \n",
            " conv2d_8 (Conv2D)           (None, 7, 7, 64)          18496     \n",
            "                                                                 \n",
            " batch_normalization_8 (Batc  (None, 7, 7, 64)         256       \n",
            " hNormalization)                                                 \n",
            "                                                                 \n",
            " flatten_2 (Flatten)         (None, 3136)              0         \n",
            "                                                                 \n",
            " dense_2 (Dense)             (None, 10)                31370     \n",
            "                                                                 \n",
            "=================================================================\n",
            "Total params: 55,114\n",
            "Trainable params: 54,890\n",
            "Non-trainable params: 224\n",
            "_________________________________________________________________\n"
          ]
        }
      ]
    },
    {
      "cell_type": "code",
      "metadata": {
        "id": "26nYur4vaV9I"
      },
      "source": [
        "Modelo1.compile(loss='categorical_crossentropy', optimizer='adam', metrics=['accuracy'])"
      ],
      "execution_count": null,
      "outputs": []
    },
    {
      "cell_type": "markdown",
      "metadata": {
        "id": "1UrVdo1Tadik"
      },
      "source": [
        "#Entrenando el modelo"
      ]
    },
    {
      "cell_type": "code",
      "source": [
        "from keras.callbacks import EarlyStopping"
      ],
      "metadata": {
        "id": "ojnrRRQGudWu"
      },
      "execution_count": null,
      "outputs": []
    },
    {
      "cell_type": "code",
      "source": [
        "batch_size = 128\n",
        "cb = EarlyStopping(monitor='val_accuracy', mode='max', patience=5,  restore_best_weights=True, start_from_epoch=10,)\n",
        "history_ES = Modelo1.fit(X_train, Y_train, epochs=100, batch_size=batch_size, validation_data=(X_test, Y_test), callbacks=[cb], verbose=1)"
      ],
      "metadata": {
        "colab": {
          "base_uri": "https://localhost:8080/"
        },
        "id": "bhDK6L5Su3PE",
        "outputId": "9fe5009d-649d-4b5d-bb26-4f75b4c66b07"
      },
      "execution_count": null,
      "outputs": [
        {
          "output_type": "stream",
          "name": "stdout",
          "text": [
            "Epoch 1/100\n",
            "469/469 [==============================] - 17s 11ms/step - loss: 0.1119 - accuracy: 0.9653 - val_loss: 0.2651 - val_accuracy: 0.9071\n",
            "Epoch 2/100\n",
            "469/469 [==============================] - 6s 13ms/step - loss: 0.0406 - accuracy: 0.9869 - val_loss: 0.0569 - val_accuracy: 0.9820\n",
            "Epoch 3/100\n",
            "469/469 [==============================] - 4s 8ms/step - loss: 0.0271 - accuracy: 0.9911 - val_loss: 0.0418 - val_accuracy: 0.9874\n",
            "Epoch 4/100\n",
            "469/469 [==============================] - 4s 9ms/step - loss: 0.0186 - accuracy: 0.9936 - val_loss: 0.0434 - val_accuracy: 0.9872\n",
            "Epoch 5/100\n",
            "469/469 [==============================] - 3s 7ms/step - loss: 0.0138 - accuracy: 0.9956 - val_loss: 0.0408 - val_accuracy: 0.9891\n",
            "Epoch 6/100\n",
            "469/469 [==============================] - 4s 8ms/step - loss: 0.0110 - accuracy: 0.9962 - val_loss: 0.0571 - val_accuracy: 0.9864\n",
            "Epoch 7/100\n",
            "469/469 [==============================] - 3s 6ms/step - loss: 0.0133 - accuracy: 0.9956 - val_loss: 0.0434 - val_accuracy: 0.9886\n",
            "Epoch 8/100\n",
            "469/469 [==============================] - 3s 6ms/step - loss: 0.0086 - accuracy: 0.9975 - val_loss: 0.0446 - val_accuracy: 0.9892\n",
            "Epoch 9/100\n",
            "469/469 [==============================] - 3s 7ms/step - loss: 0.0095 - accuracy: 0.9966 - val_loss: 0.0425 - val_accuracy: 0.9899\n",
            "Epoch 10/100\n",
            "469/469 [==============================] - 4s 7ms/step - loss: 0.0069 - accuracy: 0.9978 - val_loss: 0.0373 - val_accuracy: 0.9902\n",
            "Epoch 11/100\n",
            "469/469 [==============================] - 3s 7ms/step - loss: 0.0078 - accuracy: 0.9972 - val_loss: 0.0492 - val_accuracy: 0.9888\n",
            "Epoch 12/100\n",
            "469/469 [==============================] - 3s 6ms/step - loss: 0.0047 - accuracy: 0.9984 - val_loss: 0.0400 - val_accuracy: 0.9899\n",
            "Epoch 13/100\n",
            "469/469 [==============================] - 4s 8ms/step - loss: 0.0050 - accuracy: 0.9982 - val_loss: 0.0594 - val_accuracy: 0.9874\n",
            "Epoch 14/100\n",
            "469/469 [==============================] - 3s 7ms/step - loss: 0.0083 - accuracy: 0.9972 - val_loss: 0.0530 - val_accuracy: 0.9889\n",
            "Epoch 15/100\n",
            "469/469 [==============================] - 3s 6ms/step - loss: 0.0054 - accuracy: 0.9982 - val_loss: 0.0571 - val_accuracy: 0.9883\n",
            "Epoch 16/100\n",
            "469/469 [==============================] - 3s 7ms/step - loss: 0.0045 - accuracy: 0.9984 - val_loss: 0.0487 - val_accuracy: 0.9906\n",
            "Epoch 17/100\n",
            "469/469 [==============================] - 4s 8ms/step - loss: 0.0040 - accuracy: 0.9986 - val_loss: 0.0587 - val_accuracy: 0.9891\n",
            "Epoch 18/100\n",
            "469/469 [==============================] - 3s 6ms/step - loss: 0.0037 - accuracy: 0.9988 - val_loss: 0.0629 - val_accuracy: 0.9888\n",
            "Epoch 19/100\n",
            "469/469 [==============================] - 3s 6ms/step - loss: 0.0037 - accuracy: 0.9987 - val_loss: 0.0565 - val_accuracy: 0.9897\n",
            "Epoch 20/100\n",
            "469/469 [==============================] - 3s 7ms/step - loss: 0.0064 - accuracy: 0.9980 - val_loss: 0.0662 - val_accuracy: 0.9898\n",
            "Epoch 21/100\n",
            "469/469 [==============================] - 4s 8ms/step - loss: 0.0035 - accuracy: 0.9990 - val_loss: 0.0442 - val_accuracy: 0.9925\n",
            "Epoch 22/100\n",
            "469/469 [==============================] - 3s 6ms/step - loss: 0.0015 - accuracy: 0.9996 - val_loss: 0.0525 - val_accuracy: 0.9907\n",
            "Epoch 23/100\n",
            "469/469 [==============================] - 3s 7ms/step - loss: 0.0041 - accuracy: 0.9985 - val_loss: 0.0581 - val_accuracy: 0.9907\n",
            "Epoch 24/100\n",
            "469/469 [==============================] - 3s 7ms/step - loss: 0.0047 - accuracy: 0.9986 - val_loss: 0.0619 - val_accuracy: 0.9900\n",
            "Epoch 25/100\n",
            "469/469 [==============================] - 4s 8ms/step - loss: 0.0032 - accuracy: 0.9991 - val_loss: 0.0439 - val_accuracy: 0.9914\n",
            "Epoch 26/100\n",
            "469/469 [==============================] - 3s 7ms/step - loss: 0.0045 - accuracy: 0.9987 - val_loss: 0.0609 - val_accuracy: 0.9893\n"
          ]
        }
      ]
    },
    {
      "cell_type": "markdown",
      "source": [
        "Evaluando el modelo"
      ],
      "metadata": {
        "id": "H6Bx7V4_t363"
      }
    },
    {
      "cell_type": "code",
      "source": [
        "Metricas= Modelo1.evaluate(X_test, Y_test)\n",
        "print('Pérdida (Loss) de validación:', Metricas[0])\n",
        "print('Precición (accuracy) de validación:', Metricas[1])"
      ],
      "metadata": {
        "colab": {
          "base_uri": "https://localhost:8080/"
        },
        "id": "nXk3_LQowNUN",
        "outputId": "503e8bb8-560f-4908-d224-a97fd9979be1"
      },
      "execution_count": null,
      "outputs": [
        {
          "output_type": "stream",
          "name": "stdout",
          "text": [
            "313/313 [==============================] - 1s 4ms/step - loss: 0.0442 - accuracy: 0.9925\n",
            "Pérdida (Loss) de validación: 0.0442146435379982\n",
            "Precición (accuracy) de validación: 0.9925000071525574\n"
          ]
        }
      ]
    },
    {
      "cell_type": "markdown",
      "metadata": {
        "id": "kscqbCRWapsJ"
      },
      "source": [
        "Verificando la salida"
      ]
    },
    {
      "cell_type": "code",
      "metadata": {
        "id": "a2dYDhIBarQZ",
        "colab": {
          "base_uri": "https://localhost:8080/"
        },
        "outputId": "a3955f2f-e695-4c09-a567-dc1c0806ceac"
      },
      "source": [
        "predicted_classes_Temp = Modelo1.predict(X_test)\n",
        "predicted_classes =np.argmax(predicted_classes_Temp, axis=1)\n",
        "test_classes= np.argmax(Y_test, axis=1)\n",
        "correct_indices = np.nonzero(predicted_classes == test_classes)[0]\n",
        "incorrect_indices = np.nonzero(predicted_classes != test_classes)[0]\n",
        "print(len(test_classes))\n",
        "print(len(correct_indices))\n",
        "print(len(incorrect_indices))"
      ],
      "execution_count": null,
      "outputs": [
        {
          "output_type": "stream",
          "name": "stdout",
          "text": [
            "313/313 [==============================] - 1s 3ms/step\n",
            "10000\n",
            "9925\n",
            "75\n"
          ]
        }
      ]
    },
    {
      "cell_type": "code",
      "metadata": {
        "id": "3Pyl7Xhtaup1",
        "colab": {
          "base_uri": "https://localhost:8080/",
          "height": 1000
        },
        "outputId": "d4f1d0e6-0be5-4218-a669-7e5b2b37477d"
      },
      "source": [
        "plt.figure()\n",
        "Indices_Correctos=np.random.permutation(len(correct_indices))\n",
        "for i, correct in enumerate(correct_indices[Indices_Correctos[:9]]):\n",
        "    plt.subplot(3,3,i+1)\n",
        "    plt.imshow(X_test[correct].reshape(28,28), cmap='gray', interpolation='none')\n",
        "    plt.title(\"Predicted {}, Class {}\".format(predicted_classes[correct], test_classes[correct]))\n",
        "    \n",
        "plt.tight_layout()\n",
        "\n",
        "Indices_Incorrectos=np.random.permutation(len(incorrect_indices))\n",
        "plt.figure()\n",
        "for i, incorrect in enumerate(incorrect_indices[Indices_Incorrectos[:9]]):\n",
        "    plt.subplot(3,3,i+1)\n",
        "    plt.imshow(X_test[incorrect].reshape(28,28), cmap='gray', interpolation='none')\n",
        "    plt.title(\"Predicted {}, Class {}\".format(predicted_classes[incorrect], test_classes[incorrect]))\n",
        "    \n",
        "plt.tight_layout()"
      ],
      "execution_count": null,
      "outputs": [
        {
          "output_type": "display_data",
          "data": {
            "text/plain": [
              "<Figure size 648x648 with 9 Axes>"
            ],
            "image/png": "[encoded data removed]"
          },
          "metadata": {
            "needs_background": "light"
          }
        },
        {
          "output_type": "display_data",
          "data": {
            "text/plain": [
              "<Figure size 648x648 with 9 Axes>"
            ],
            "image/png": "[encoded data removed]"
          },
          "metadata": {
            "needs_background": "light"
          }
        }
      ]
    },
    {
      "cell_type": "code",
      "source": [
        "from sklearn.metrics import classification_report, confusion_matrix\n",
        "import seaborn as sns\n",
        "import pandas as pd\n",
        "\n",
        "y_pred_class = predicted_classes\n",
        "y_test_class = test_classes\n",
        "#Accuracy of the predicted values\n",
        "print(classification_report(y_test_class, y_pred_class)) # Precision , Recall, F1-Score & Support\n",
        "cm = confusion_matrix(y_test_class, y_pred_class)\n",
        "print(cm)\n",
        "# visualize the confusion matrix in a heat map\n",
        "df_cm = pd.DataFrame(cm)\n",
        "heatmap = sns.heatmap(df_cm, annot=True, fmt=\"d\")"
      ],
      "metadata": {
        "colab": {
          "base_uri": "https://localhost:8080/",
          "height": 1000
        },
        "id": "Xs5NbBi3Z-mJ",
        "outputId": "a3b742e5-14c9-42b3-d745-91bc0e2e9589"
      },
      "execution_count": null,
      "outputs": [
        {
          "output_type": "stream",
          "name": "stdout",
          "text": [
            "              precision    recall  f1-score   support\n",
            "\n",
            "           0       0.99      1.00      0.99       980\n",
            "           1       1.00      0.99      0.99      1135\n",
            "           2       0.99      1.00      1.00      1032\n",
            "           3       0.99      0.99      0.99      1010\n",
            "           4       0.99      0.99      0.99       982\n",
            "           5       0.99      0.99      0.99       892\n",
            "           6       0.99      0.99      0.99       958\n",
            "           7       1.00      0.98      0.99      1028\n",
            "           8       0.99      0.99      0.99       974\n",
            "           9       0.99      0.99      0.99      1009\n",
            "\n",
            "    accuracy                           0.99     10000\n",
            "   macro avg       0.99      0.99      0.99     10000\n",
            "weighted avg       0.99      0.99      0.99     10000\n",
            "\n",
            "[[ 979    0    0    0    0    0    0    1    0    0]\n",
            " [   0 1126    0    1    1    0    3    0    4    0]\n",
            " [   0    1 1030    0    0    0    1    0    0    0]\n",
            " [   0    1    0 1004    0    4    0    0    1    0]\n",
            " [   0    0    0    0  972    0    4    0    0    6]\n",
            " [   1    0    0    4    0  886    1    0    0    0]\n",
            " [   6    0    0    0    1    1  949    0    1    0]\n",
            " [   0    1    6    2    1    0    0 1012    2    4]\n",
            " [   1    0    0    0    0    1    0    1  968    3]\n",
            " [   1    0    0    1    5    1    0    1    1  999]]\n"
          ]
        },
        {
          "output_type": "display_data",
          "data": {
            "text/plain": [
              "<Figure size 648x648 with 2 Axes>"
            ],
            "image/png": "[encoded data removed]"
          },
          "metadata": {
            "needs_background": "light"
          }
        }
      ]
    },
    {
      "cell_type": "markdown",
      "source": [
        "#Probar datos propios"
      ],
      "metadata": {
        "id": "n_pbIK8wvPgo"
      }
    },
    {
      "cell_type": "code",
      "source": [
        "import io\n",
        "import cv2\n",
        "classnames= ['0','1','2','3','4','5','6','7','8','9']\n",
        "img=cv2.imread(\"/content/8.png\")\n",
        "print(\"Imagen original: \", img.shape)\n",
        "img2=cv2.resize(img,(28,28))\n",
        "print(\"Imagen resize: \", img2.shape)\n",
        "img_cvt=cv2.cvtColor(img2,cv2.COLOR_RGB2GRAY)\n",
        "print(\"Imagen escala de grises: \", img_cvt.shape)\n",
        "img2=np.expand_dims(img_cvt,0)\n",
        "print(\"Imagen expandida: \", img2.shape)\n",
        "prediction=Modelo1.predict(img2)\n",
        "plt.imshow(img_cvt, cmap='gray')\n",
        "plt.title(classnames[np.argmax(prediction)])\n",
        "plt.show()"
      ],
      "metadata": {
        "id": "5GvUsOb_wcNI",
        "colab": {
          "base_uri": "https://localhost:8080/",
          "height": 640
        },
        "outputId": "e1de5cd6-b3d8-4e24-9541-87f2177ecce2"
      },
      "execution_count": null,
      "outputs": [
        {
          "output_type": "stream",
          "name": "stdout",
          "text": [
            "Imagen original:  (648, 1152, 3)\n",
            "Imagen resize:  (28, 28, 3)\n",
            "Imagen escala de grises:  (28, 28)\n",
            "Imagen expandida:  (1, 28, 28)\n",
            "1/1 [==============================] - 0s 30ms/step\n"
          ]
        },
        {
          "output_type": "display_data",
          "data": {
            "text/plain": [
              "<Figure size 648x648 with 1 Axes>"
            ],
            "image/png": "[encoded data removed]"
          },
          "metadata": {
            "needs_background": "light"
          }
        }
      ]
    }
  ]
}